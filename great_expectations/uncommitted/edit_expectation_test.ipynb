{
 "cells": [
  {
   "cell_type": "markdown",
   "id": "36d28f1c",
   "metadata": {},
   "source": [
    "# Edit Your Expectation Suite\n",
    "Use this notebook to recreate and modify your expectation suite:\n",
    "\n",
    "**Expectation Suite Name**: `expectation_test`\n"
   ]
  },
  {
   "cell_type": "code",
   "execution_count": 25,
   "id": "a579c265",
   "metadata": {},
   "outputs": [
    {
     "name": "stdout",
     "output_type": "stream",
     "text": [
      "2023-02-23T12:53:54+0530 - INFO - FileDataContext loading zep config\n",
      "2023-02-23T12:53:54+0530 - INFO - GxConfig.parse_yaml() failed with errors - [{'loc': ('xdatasources',), 'msg': 'field required', 'type': 'value_error.missing'}]\n",
      "2023-02-23T12:53:54+0530 - INFO - GxConfig.parse_yaml() returning empty `xdatasources`\n",
      "2023-02-23T12:53:54+0530 - INFO - Loading 'datasources' ->\n",
      "{}\n",
      "2023-02-23T12:53:54+0530 - INFO - Loaded 'datasources' ->\n",
      "{}\n",
      "Loaded ExpectationSuite \"expectation_test\" containing 8 expectations.\n"
     ]
    },
    {
     "data": {
      "application/vnd.jupyter.widget-view+json": {
       "model_id": "5f0f2d2078604b1599f793bda97d2b2b",
       "version_major": 2,
       "version_minor": 0
      },
      "text/plain": [
       "Calculating Metrics:   0%|          | 0/2 [00:00<?, ?it/s]"
      ]
     },
     "metadata": {},
     "output_type": "display_data"
    },
    {
     "name": "stdout",
     "output_type": "stream",
     "text": [
      "Columns: \"employee_id\", \"first_name\", \"last_name\", \"email\", \"phone_number\", \"hire_date\", \"job_id\", \"salary\", \"manager_id\", \"department_id\", \"elt_ts\", \"elt_by\", \"file_name\".\n"
     ]
    },
    {
     "data": {
      "application/vnd.jupyter.widget-view+json": {
       "model_id": "0411e18568964bc3a018fcc1fcd75552",
       "version_major": 2,
       "version_minor": 0
      },
      "text/plain": [
       "Calculating Metrics:   0%|          | 0/1 [00:00<?, ?it/s]"
      ]
     },
     "metadata": {},
     "output_type": "display_data"
    },
    {
     "data": {
      "text/html": [
       "<div>\n",
       "<style scoped>\n",
       "    .dataframe tbody tr th:only-of-type {\n",
       "        vertical-align: middle;\n",
       "    }\n",
       "\n",
       "    .dataframe tbody tr th {\n",
       "        vertical-align: top;\n",
       "    }\n",
       "\n",
       "    .dataframe thead th {\n",
       "        text-align: right;\n",
       "    }\n",
       "</style>\n",
       "<table border=\"1\" class=\"dataframe\">\n",
       "  <thead>\n",
       "    <tr style=\"text-align: right;\">\n",
       "      <th></th>\n",
       "      <th>employee_id</th>\n",
       "      <th>first_name</th>\n",
       "      <th>last_name</th>\n",
       "      <th>email</th>\n",
       "      <th>phone_number</th>\n",
       "      <th>hire_date</th>\n",
       "      <th>job_id</th>\n",
       "      <th>salary</th>\n",
       "      <th>manager_id</th>\n",
       "      <th>department_id</th>\n",
       "      <th>elt_ts</th>\n",
       "      <th>elt_by</th>\n",
       "      <th>file_name</th>\n",
       "    </tr>\n",
       "  </thead>\n",
       "  <tbody>\n",
       "    <tr>\n",
       "      <th>0</th>\n",
       "      <td>198.0</td>\n",
       "      <td>Donald</td>\n",
       "      <td>OConnell</td>\n",
       "      <td>*********</td>\n",
       "      <td>*********</td>\n",
       "      <td>21-JUN-07</td>\n",
       "      <td>SH_CLERK</td>\n",
       "      <td>2600.0</td>\n",
       "      <td>124.0</td>\n",
       "      <td>50.0</td>\n",
       "      <td>2023-02-06 04:21:14.674</td>\n",
       "      <td>local</td>\n",
       "      <td>employees.csv</td>\n",
       "    </tr>\n",
       "    <tr>\n",
       "      <th>1</th>\n",
       "      <td>199.0</td>\n",
       "      <td>Douglas</td>\n",
       "      <td>Grant</td>\n",
       "      <td>*********</td>\n",
       "      <td>*********</td>\n",
       "      <td>13-JAN-08</td>\n",
       "      <td>SH_CLERK</td>\n",
       "      <td>2600.0</td>\n",
       "      <td>124.0</td>\n",
       "      <td>50.0</td>\n",
       "      <td>2023-02-06 04:21:14.674</td>\n",
       "      <td>local</td>\n",
       "      <td>employees.csv</td>\n",
       "    </tr>\n",
       "    <tr>\n",
       "      <th>2</th>\n",
       "      <td>200.0</td>\n",
       "      <td>Jennifer</td>\n",
       "      <td>Whalen</td>\n",
       "      <td>*********</td>\n",
       "      <td>*********</td>\n",
       "      <td>17-SEP-03</td>\n",
       "      <td>AD_ASST</td>\n",
       "      <td>4400.0</td>\n",
       "      <td>101.0</td>\n",
       "      <td>10.0</td>\n",
       "      <td>2023-02-06 04:21:14.674</td>\n",
       "      <td>local</td>\n",
       "      <td>employees.csv</td>\n",
       "    </tr>\n",
       "    <tr>\n",
       "      <th>3</th>\n",
       "      <td>201.0</td>\n",
       "      <td>Michael</td>\n",
       "      <td>Hartstein</td>\n",
       "      <td>*********</td>\n",
       "      <td>*********</td>\n",
       "      <td>17-FEB-04</td>\n",
       "      <td>MK_MAN</td>\n",
       "      <td>13000.0</td>\n",
       "      <td>100.0</td>\n",
       "      <td>20.0</td>\n",
       "      <td>2023-02-06 04:21:14.674</td>\n",
       "      <td>local</td>\n",
       "      <td>employees.csv</td>\n",
       "    </tr>\n",
       "    <tr>\n",
       "      <th>4</th>\n",
       "      <td>202.0</td>\n",
       "      <td>Pat</td>\n",
       "      <td>Fay</td>\n",
       "      <td>*********</td>\n",
       "      <td>*********</td>\n",
       "      <td>17-AUG-05</td>\n",
       "      <td>MK_REP</td>\n",
       "      <td>6000.0</td>\n",
       "      <td>201.0</td>\n",
       "      <td>20.0</td>\n",
       "      <td>2023-02-06 04:21:14.674</td>\n",
       "      <td>local</td>\n",
       "      <td>employees.csv</td>\n",
       "    </tr>\n",
       "  </tbody>\n",
       "</table>\n",
       "</div>"
      ],
      "text/plain": [
       "   employee_id first_name  last_name      email phone_number  hire_date  \\\n",
       "0        198.0     Donald   OConnell  *********    *********  21-JUN-07   \n",
       "1        199.0    Douglas      Grant  *********    *********  13-JAN-08   \n",
       "2        200.0   Jennifer     Whalen  *********    *********  17-SEP-03   \n",
       "3        201.0    Michael  Hartstein  *********    *********  17-FEB-04   \n",
       "4        202.0        Pat        Fay  *********    *********  17-AUG-05   \n",
       "\n",
       "     job_id   salary  manager_id  department_id                  elt_ts  \\\n",
       "0  SH_CLERK   2600.0       124.0           50.0 2023-02-06 04:21:14.674   \n",
       "1  SH_CLERK   2600.0       124.0           50.0 2023-02-06 04:21:14.674   \n",
       "2   AD_ASST   4400.0       101.0           10.0 2023-02-06 04:21:14.674   \n",
       "3    MK_MAN  13000.0       100.0           20.0 2023-02-06 04:21:14.674   \n",
       "4    MK_REP   6000.0       201.0           20.0 2023-02-06 04:21:14.674   \n",
       "\n",
       "  elt_by      file_name  \n",
       "0  local  employees.csv  \n",
       "1  local  employees.csv  \n",
       "2  local  employees.csv  \n",
       "3  local  employees.csv  \n",
       "4  local  employees.csv  "
      ]
     },
     "execution_count": 25,
     "metadata": {},
     "output_type": "execute_result"
    }
   ],
   "source": [
    "import datetime\n",
    "\n",
    "import pandas as pd\n",
    "\n",
    "import great_expectations as gx\n",
    "import great_expectations.jupyter_ux\n",
    "from great_expectations.core.batch import BatchRequest\n",
    "from great_expectations.checkpoint import SimpleCheckpoint\n",
    "from great_expectations.exceptions import DataContextError\n",
    "\n",
    "context = gx.get_context()\n",
    "\n",
    "# Note that if you modify this batch request, you may save the new version as a .json file\n",
    "#  to pass in later via the --batch-request option\n",
    "batch_request = {\n",
    "    \"datasource_name\": \"my_datasource_new\",\n",
    "    \"data_connector_name\": \"default_inferred_data_connector_name\",\n",
    "    \"data_asset_name\": \"my_schema.employees\",\n",
    "    \"limit\": 1000,\n",
    "}\n",
    "\n",
    "\n",
    "# Feel free to change the name of your suite here. Renaming this will not remove the other one.\n",
    "expectation_suite_name = \"expectation_test\"\n",
    "try:\n",
    "    suite = context.get_expectation_suite(expectation_suite_name=expectation_suite_name)\n",
    "    print(\n",
    "        f'Loaded ExpectationSuite \"{suite.expectation_suite_name}\" containing {len(suite.expectations)} expectations.'\n",
    "    )\n",
    "except DataContextError:\n",
    "    suite = context.create_expectation_suite(\n",
    "        expectation_suite_name=expectation_suite_name\n",
    "    )\n",
    "    print(f'Created ExpectationSuite \"{suite.expectation_suite_name}\".')\n",
    "\n",
    "\n",
    "validator = context.get_validator(\n",
    "    batch_request=BatchRequest(**batch_request),\n",
    "    expectation_suite_name=expectation_suite_name,\n",
    ")\n",
    "column_names = [f'\"{column_name}\"' for column_name in validator.columns()]\n",
    "print(f\"Columns: {', '.join(column_names)}.\")\n",
    "validator.head(n_rows=5, fetch_all=False)"
   ]
  },
  {
   "cell_type": "markdown",
   "id": "f401be7d",
   "metadata": {},
   "source": [
    "## Create & Edit Expectations\n",
    "\n",
    "\n",
    "Add expectations by calling specific expectation methods on the `validator` object. They all begin with `.expect_` which makes autocompleting easy using tab.\n",
    "\n",
    "Because you selected interactive mode, you are now creating or editing an Expectation Suite with validator feedback from the sample batch of data that you specified (see `batch_request`).\n",
    "\n",
    "Note that if you select manual mode you may still create or edit an Expectation Suite directly, without feedback from the `validator`. See our documentation for more info and examples: [How to create a new Expectation Suite without a sample batch](https://docs.greatexpectations.io/docs/guides/expectations/how_to_create_and_edit_expectations_based_on_domain_knowledge_without_inspecting_data_directly).\n",
    "\n",
    "\n",
    "\n",
    "You can see all the available expectations in the **[expectation gallery](https://greatexpectations.io/expectations)**."
   ]
  },
  {
   "cell_type": "markdown",
   "id": "d8cb6140",
   "metadata": {},
   "source": [
    "### Table Expectation(s)"
   ]
  },
  {
   "cell_type": "markdown",
   "id": "e7eaf82f",
   "metadata": {},
   "source": [
    "No table level expectations are in this suite. Feel free to add some here.\n",
    "\n",
    "They all begin with `validator.expect_table_...`.\n"
   ]
  },
  {
   "cell_type": "code",
   "execution_count": 2,
   "id": "17e25987",
   "metadata": {},
   "outputs": [
    {
     "data": {
      "application/vnd.jupyter.widget-view+json": {
       "model_id": "145840f07ff741288fbdfcbd0922c83e",
       "version_major": 2,
       "version_minor": 0
      },
      "text/plain": [
       "Calculating Metrics:   0%|          | 0/3 [00:00<?, ?it/s]"
      ]
     },
     "metadata": {},
     "output_type": "display_data"
    },
    {
     "data": {
      "text/plain": [
       "{\n",
       "  \"meta\": {},\n",
       "  \"result\": {\n",
       "    \"observed_value\": 13\n",
       "  },\n",
       "  \"exception_info\": {\n",
       "    \"raised_exception\": false,\n",
       "    \"exception_traceback\": null,\n",
       "    \"exception_message\": null\n",
       "  },\n",
       "  \"success\": true\n",
       "}"
      ]
     },
     "execution_count": 2,
     "metadata": {},
     "output_type": "execute_result"
    }
   ],
   "source": [
    "validator.expect_table_column_count_to_equal(13)"
   ]
  },
  {
   "cell_type": "code",
   "execution_count": 21,
   "id": "598dbae2",
   "metadata": {},
   "outputs": [
    {
     "data": {
      "application/vnd.jupyter.widget-view+json": {
       "model_id": "794cbf81f98f4a63b6d5ca439a6d3d79",
       "version_major": 2,
       "version_minor": 0
      },
      "text/plain": [
       "Calculating Metrics:   0%|          | 0/2 [00:00<?, ?it/s]"
      ]
     },
     "metadata": {},
     "output_type": "display_data"
    },
    {
     "data": {
      "text/plain": [
       "{\n",
       "  \"meta\": {},\n",
       "  \"result\": {\n",
       "    \"observed_value\": 49\n",
       "  },\n",
       "  \"exception_info\": {\n",
       "    \"raised_exception\": false,\n",
       "    \"exception_traceback\": null,\n",
       "    \"exception_message\": null\n",
       "  },\n",
       "  \"success\": true\n",
       "}"
      ]
     },
     "execution_count": 21,
     "metadata": {},
     "output_type": "execute_result"
    }
   ],
   "source": [
    "validator.expect_table_row_count_to_be_between(min_value=1,max_value=1000)"
   ]
  },
  {
   "cell_type": "code",
   "execution_count": 4,
   "id": "4c2c57dc",
   "metadata": {},
   "outputs": [
    {
     "data": {
      "application/vnd.jupyter.widget-view+json": {
       "model_id": "bad917dc87fd4cd5b7044390ba6501d8",
       "version_major": 2,
       "version_minor": 0
      },
      "text/plain": [
       "Calculating Metrics:   0%|          | 0/2 [00:00<?, ?it/s]"
      ]
     },
     "metadata": {},
     "output_type": "display_data"
    },
    {
     "data": {
      "text/plain": [
       "{\n",
       "  \"meta\": {},\n",
       "  \"result\": {\n",
       "    \"observed_value\": [\n",
       "      \"employee_id\",\n",
       "      \"first_name\",\n",
       "      \"last_name\",\n",
       "      \"email\",\n",
       "      \"phone_number\",\n",
       "      \"hire_date\",\n",
       "      \"job_id\",\n",
       "      \"salary\",\n",
       "      \"manager_id\",\n",
       "      \"department_id\",\n",
       "      \"elt_ts\",\n",
       "      \"elt_by\",\n",
       "      \"file_name\"\n",
       "    ]\n",
       "  },\n",
       "  \"exception_info\": {\n",
       "    \"raised_exception\": false,\n",
       "    \"exception_traceback\": null,\n",
       "    \"exception_message\": null\n",
       "  },\n",
       "  \"success\": true\n",
       "}"
      ]
     },
     "execution_count": 4,
     "metadata": {},
     "output_type": "execute_result"
    }
   ],
   "source": [
    "validator.expect_table_columns_to_match_ordered_list(column_list=[\"employee_id\",\"first_name\",\"last_name\",\"email\",\n",
    "\"phone_number\",\"hire_date\",\"job_id\",\"salary\",\"manager_id\",\"department_id\",\"elt_ts\",\"elt_by\",\"file_name\"])"
   ]
  },
  {
   "cell_type": "code",
   "execution_count": 5,
   "id": "63f79ab7",
   "metadata": {},
   "outputs": [
    {
     "data": {
      "application/vnd.jupyter.widget-view+json": {
       "model_id": "c91af3f3e15643b9bd1ab3f45da732ca",
       "version_major": 2,
       "version_minor": 0
      },
      "text/plain": [
       "Calculating Metrics:   0%|          | 0/9 [00:00<?, ?it/s]"
      ]
     },
     "metadata": {},
     "output_type": "display_data"
    },
    {
     "data": {
      "text/plain": [
       "{\n",
       "  \"meta\": {},\n",
       "  \"result\": {\n",
       "    \"element_count\": 49,\n",
       "    \"unexpected_count\": 0,\n",
       "    \"unexpected_percent\": 0.0,\n",
       "    \"partial_unexpected_list\": [],\n",
       "    \"missing_count\": 0,\n",
       "    \"missing_percent\": 0.0,\n",
       "    \"unexpected_percent_total\": 0.0,\n",
       "    \"unexpected_percent_nonmissing\": 0.0\n",
       "  },\n",
       "  \"exception_info\": {\n",
       "    \"raised_exception\": false,\n",
       "    \"exception_traceback\": null,\n",
       "    \"exception_message\": null\n",
       "  },\n",
       "  \"success\": true\n",
       "}"
      ]
     },
     "execution_count": 5,
     "metadata": {},
     "output_type": "execute_result"
    }
   ],
   "source": [
    "validator.expect_compound_columns_to_be_unique(column_list=[\"employee_id\",\"email\",\"phone_number\"])"
   ]
  },
  {
   "cell_type": "code",
   "execution_count": 6,
   "id": "4f7086d3",
   "metadata": {},
   "outputs": [
    {
     "data": {
      "application/vnd.jupyter.widget-view+json": {
       "model_id": "9cc28f00cd8349b395919d7513bec579",
       "version_major": 2,
       "version_minor": 0
      },
      "text/plain": [
       "Calculating Metrics:   0%|          | 0/2 [00:00<?, ?it/s]"
      ]
     },
     "metadata": {},
     "output_type": "display_data"
    },
    {
     "data": {
      "text/plain": [
       "{\n",
       "  \"meta\": {},\n",
       "  \"result\": {\n",
       "    \"observed_value\": 49\n",
       "  },\n",
       "  \"exception_info\": {\n",
       "    \"raised_exception\": false,\n",
       "    \"exception_traceback\": null,\n",
       "    \"exception_message\": null\n",
       "  },\n",
       "  \"success\": true\n",
       "}"
      ]
     },
     "execution_count": 6,
     "metadata": {},
     "output_type": "execute_result"
    }
   ],
   "source": [
    "validator.expect_table_row_count_to_be_between(min_value=1)"
   ]
  },
  {
   "cell_type": "markdown",
   "id": "9737a5d2",
   "metadata": {},
   "source": [
    "### Column Expectation(s)"
   ]
  },
  {
   "cell_type": "markdown",
   "id": "10e18c8e",
   "metadata": {},
   "source": [
    "No column level expectations are in this suite. Feel free to add some here.\n",
    "\n",
    "They all begin with`validator.expect_column_...`.\n"
   ]
  },
  {
   "cell_type": "code",
   "execution_count": 9,
   "id": "af8d082c",
   "metadata": {},
   "outputs": [
    {
     "data": {
      "application/vnd.jupyter.widget-view+json": {
       "model_id": "ce7b6206ab074f66a9385883425e40ac",
       "version_major": 2,
       "version_minor": 0
      },
      "text/plain": [
       "Calculating Metrics:   0%|          | 0/10 [00:00<?, ?it/s]"
      ]
     },
     "metadata": {},
     "output_type": "display_data"
    },
    {
     "data": {
      "text/plain": [
       "{\n",
       "  \"meta\": {},\n",
       "  \"result\": {\n",
       "    \"element_count\": 49,\n",
       "    \"unexpected_count\": 0,\n",
       "    \"unexpected_percent\": 0.0,\n",
       "    \"partial_unexpected_list\": [],\n",
       "    \"missing_count\": 0,\n",
       "    \"missing_percent\": 0.0,\n",
       "    \"unexpected_percent_total\": 0.0,\n",
       "    \"unexpected_percent_nonmissing\": 0.0\n",
       "  },\n",
       "  \"exception_info\": {\n",
       "    \"raised_exception\": false,\n",
       "    \"exception_traceback\": null,\n",
       "    \"exception_message\": null\n",
       "  },\n",
       "  \"success\": true\n",
       "}"
      ]
     },
     "execution_count": 9,
     "metadata": {},
     "output_type": "execute_result"
    }
   ],
   "source": [
    "validator.expect_column_values_to_be_unique(\"employee_id\")"
   ]
  },
  {
   "cell_type": "code",
   "execution_count": 12,
   "id": "5b0425f8",
   "metadata": {},
   "outputs": [
    {
     "data": {
      "application/vnd.jupyter.widget-view+json": {
       "model_id": "774349c16e174ee9aa103f11c06fbec3",
       "version_major": 2,
       "version_minor": 0
      },
      "text/plain": [
       "Calculating Metrics:   0%|          | 0/11 [00:00<?, ?it/s]"
      ]
     },
     "metadata": {},
     "output_type": "display_data"
    },
    {
     "data": {
      "text/plain": [
       "{\n",
       "  \"meta\": {},\n",
       "  \"result\": {\n",
       "    \"element_count\": 49,\n",
       "    \"unexpected_count\": 0,\n",
       "    \"unexpected_percent\": 0.0,\n",
       "    \"partial_unexpected_list\": [],\n",
       "    \"missing_count\": 0,\n",
       "    \"missing_percent\": 0.0,\n",
       "    \"unexpected_percent_total\": 0.0,\n",
       "    \"unexpected_percent_nonmissing\": 0.0\n",
       "  },\n",
       "  \"exception_info\": {\n",
       "    \"raised_exception\": false,\n",
       "    \"exception_traceback\": null,\n",
       "    \"exception_message\": null\n",
       "  },\n",
       "  \"success\": true\n",
       "}"
      ]
     },
     "execution_count": 12,
     "metadata": {},
     "output_type": "execute_result"
    }
   ],
   "source": [
    "validator.expect_column_values_to_be_between(column=\"elt_ts\",min_value=\"2023-02-05 04:21:14.674\",max_value=\"2023-02-06 04:21:14.674\")"
   ]
  },
  {
   "cell_type": "code",
   "execution_count": 11,
   "id": "022a83f9",
   "metadata": {},
   "outputs": [
    {
     "data": {
      "application/vnd.jupyter.widget-view+json": {
       "model_id": "3de67c44ab8e4e7ebdc373e108661f05",
       "version_major": 2,
       "version_minor": 0
      },
      "text/plain": [
       "Calculating Metrics:   0%|          | 0/11 [00:00<?, ?it/s]"
      ]
     },
     "metadata": {},
     "output_type": "display_data"
    },
    {
     "data": {
      "text/plain": [
       "{\n",
       "  \"meta\": {},\n",
       "  \"result\": {\n",
       "    \"element_count\": 49,\n",
       "    \"unexpected_count\": 49,\n",
       "    \"unexpected_percent\": 100.0,\n",
       "    \"partial_unexpected_list\": [\n",
       "      \"2023-02-06T04:21:14.674000\",\n",
       "      \"2023-02-06T04:21:14.674000\",\n",
       "      \"2023-02-06T04:21:14.674000\",\n",
       "      \"2023-02-06T04:21:14.674000\",\n",
       "      \"2023-02-06T04:21:14.674000\",\n",
       "      \"2023-02-06T04:21:14.674000\",\n",
       "      \"2023-02-06T04:21:14.674000\",\n",
       "      \"2023-02-06T04:21:14.674000\",\n",
       "      \"2023-02-06T04:21:14.674000\",\n",
       "      \"2023-02-06T04:21:14.674000\",\n",
       "      \"2023-02-06T04:21:14.674000\",\n",
       "      \"2023-02-06T04:21:14.674000\",\n",
       "      \"2023-02-06T04:21:14.674000\",\n",
       "      \"2023-02-06T04:21:14.674000\",\n",
       "      \"2023-02-06T04:21:14.674000\",\n",
       "      \"2023-02-06T04:21:14.674000\",\n",
       "      \"2023-02-06T04:21:14.674000\",\n",
       "      \"2023-02-06T04:21:14.674000\",\n",
       "      \"2023-02-06T04:21:14.674000\",\n",
       "      \"2023-02-06T04:21:14.674000\"\n",
       "    ],\n",
       "    \"missing_count\": 0,\n",
       "    \"missing_percent\": 0.0,\n",
       "    \"unexpected_percent_total\": 100.0,\n",
       "    \"unexpected_percent_nonmissing\": 100.0\n",
       "  },\n",
       "  \"exception_info\": {\n",
       "    \"raised_exception\": false,\n",
       "    \"exception_traceback\": null,\n",
       "    \"exception_message\": null\n",
       "  },\n",
       "  \"success\": false\n",
       "}"
      ]
     },
     "execution_count": 11,
     "metadata": {},
     "output_type": "execute_result"
    }
   ],
   "source": [
    "# validator.expect_column_values_to_be_between(column=\"elt_ts\",min_value=\"2023-02-05 04:21:14.674\",max_value=\"2023-02-05 04:21:14.674\")"
   ]
  },
  {
   "cell_type": "code",
   "execution_count": 13,
   "id": "83ea3e64",
   "metadata": {},
   "outputs": [
    {
     "data": {
      "application/vnd.jupyter.widget-view+json": {
       "model_id": "239356873e1247f18a0661ab703de000",
       "version_major": 2,
       "version_minor": 0
      },
      "text/plain": [
       "Calculating Metrics:   0%|          | 0/6 [00:00<?, ?it/s]"
      ]
     },
     "metadata": {},
     "output_type": "display_data"
    },
    {
     "data": {
      "text/plain": [
       "{\n",
       "  \"meta\": {},\n",
       "  \"result\": {\n",
       "    \"observed_value\": 2100\n",
       "  },\n",
       "  \"exception_info\": {\n",
       "    \"raised_exception\": false,\n",
       "    \"exception_traceback\": null,\n",
       "    \"exception_message\": null\n",
       "  },\n",
       "  \"success\": true\n",
       "}"
      ]
     },
     "execution_count": 13,
     "metadata": {},
     "output_type": "execute_result"
    }
   ],
   "source": [
    "validator.expect_column_min_to_be_between(column=\"salary\", strict_min=0)"
   ]
  },
  {
   "cell_type": "code",
   "execution_count": 18,
   "id": "a1fa3d07",
   "metadata": {},
   "outputs": [
    {
     "ename": "MetricProviderError",
     "evalue": "No provider found for column_values.match_strftime_format.unexpected_count using SqlAlchemyExecutionEngine",
     "output_type": "error",
     "traceback": [
      "\u001b[0;31m---------------------------------------------------------------------------\u001b[0m",
      "\u001b[0;31mKeyError\u001b[0m                                  Traceback (most recent call last)",
      "File \u001b[0;32m~/opt/anaconda3/lib/python3.9/site-packages/great_expectations/expectations/registry.py:278\u001b[0m, in \u001b[0;36mget_metric_provider\u001b[0;34m(metric_name, execution_engine)\u001b[0m\n\u001b[1;32m    277\u001b[0m     metric_definition \u001b[38;5;241m=\u001b[39m _registered_metrics[metric_name]\n\u001b[0;32m--> 278\u001b[0m     \u001b[38;5;28;01mreturn\u001b[39;00m \u001b[43mmetric_definition\u001b[49m\u001b[43m[\u001b[49m\u001b[38;5;124;43m\"\u001b[39;49m\u001b[38;5;124;43mproviders\u001b[39;49m\u001b[38;5;124;43m\"\u001b[39;49m\u001b[43m]\u001b[49m\u001b[43m[\u001b[49m\u001b[38;5;28;43mtype\u001b[39;49m\u001b[43m(\u001b[49m\u001b[43mexecution_engine\u001b[49m\u001b[43m)\u001b[49m\u001b[38;5;241;43m.\u001b[39;49m\u001b[38;5;18;43m__name__\u001b[39;49m\u001b[43m]\u001b[49m\n\u001b[1;32m    279\u001b[0m \u001b[38;5;28;01mexcept\u001b[39;00m \u001b[38;5;167;01mKeyError\u001b[39;00m:\n",
      "\u001b[0;31mKeyError\u001b[0m: 'SqlAlchemyExecutionEngine'",
      "\nDuring handling of the above exception, another exception occurred:\n",
      "\u001b[0;31mMetricProviderError\u001b[0m                       Traceback (most recent call last)",
      "Input \u001b[0;32mIn [18]\u001b[0m, in \u001b[0;36m<cell line: 1>\u001b[0;34m()\u001b[0m\n\u001b[0;32m----> 1\u001b[0m \u001b[43mvalidator\u001b[49m\u001b[38;5;241;43m.\u001b[39;49m\u001b[43mexpect_column_values_to_match_strftime_format\u001b[49m\u001b[43m(\u001b[49m\u001b[38;5;124;43m\"\u001b[39;49m\u001b[38;5;124;43melt_ts\u001b[39;49m\u001b[38;5;124;43m\"\u001b[39;49m\u001b[43m,\u001b[49m\u001b[38;5;124;43m\"\u001b[39;49m\u001b[38;5;124;43m%\u001b[39;49m\u001b[38;5;124;43my-\u001b[39;49m\u001b[38;5;124;43m%\u001b[39;49m\u001b[38;5;124;43mb-\u001b[39;49m\u001b[38;5;132;43;01m%d\u001b[39;49;00m\u001b[38;5;124;43m \u001b[39;49m\u001b[38;5;124;43m%\u001b[39;49m\u001b[38;5;124;43mH:\u001b[39;49m\u001b[38;5;124;43m%\u001b[39;49m\u001b[38;5;124;43mM:\u001b[39;49m\u001b[38;5;124;43m%\u001b[39;49m\u001b[38;5;124;43mS.\u001b[39;49m\u001b[38;5;132;43;01m%f\u001b[39;49;00m\u001b[38;5;124;43m\"\u001b[39;49m\u001b[43m)\u001b[49m\n",
      "File \u001b[0;32m~/opt/anaconda3/lib/python3.9/site-packages/great_expectations/validator/validator.py:603\u001b[0m, in \u001b[0;36mValidator.validate_expectation.<locals>.inst_expectation\u001b[0;34m(*args, **kwargs)\u001b[0m\n\u001b[1;32m    597\u001b[0m         validation_result \u001b[38;5;241m=\u001b[39m ExpectationValidationResult(\n\u001b[1;32m    598\u001b[0m             success\u001b[38;5;241m=\u001b[39m\u001b[38;5;28;01mFalse\u001b[39;00m,\n\u001b[1;32m    599\u001b[0m             exception_info\u001b[38;5;241m=\u001b[39mexception_info,\n\u001b[1;32m    600\u001b[0m             expectation_config\u001b[38;5;241m=\u001b[39mconfiguration,\n\u001b[1;32m    601\u001b[0m         )\n\u001b[1;32m    602\u001b[0m     \u001b[38;5;28;01melse\u001b[39;00m:\n\u001b[0;32m--> 603\u001b[0m         \u001b[38;5;28;01mraise\u001b[39;00m err\n\u001b[1;32m    605\u001b[0m \u001b[38;5;28;01mif\u001b[39;00m \u001b[38;5;28mself\u001b[39m\u001b[38;5;241m.\u001b[39m_include_rendered_content:\n\u001b[1;32m    606\u001b[0m     validation_result\u001b[38;5;241m.\u001b[39mrender()\n",
      "File \u001b[0;32m~/opt/anaconda3/lib/python3.9/site-packages/great_expectations/validator/validator.py:566\u001b[0m, in \u001b[0;36mValidator.validate_expectation.<locals>.inst_expectation\u001b[0;34m(*args, **kwargs)\u001b[0m\n\u001b[1;32m    562\u001b[0m     validation_result \u001b[38;5;241m=\u001b[39m ExpectationValidationResult(\n\u001b[1;32m    563\u001b[0m         expectation_config\u001b[38;5;241m=\u001b[39mcopy\u001b[38;5;241m.\u001b[39mdeepcopy(expectation\u001b[38;5;241m.\u001b[39mconfiguration)\n\u001b[1;32m    564\u001b[0m     )\n\u001b[1;32m    565\u001b[0m \u001b[38;5;28;01melse\u001b[39;00m:\n\u001b[0;32m--> 566\u001b[0m     validation_result \u001b[38;5;241m=\u001b[39m \u001b[43mexpectation\u001b[49m\u001b[38;5;241;43m.\u001b[39;49m\u001b[43mvalidate\u001b[49m\u001b[43m(\u001b[49m\n\u001b[1;32m    567\u001b[0m \u001b[43m        \u001b[49m\u001b[43mvalidator\u001b[49m\u001b[38;5;241;43m=\u001b[39;49m\u001b[38;5;28;43mself\u001b[39;49m\u001b[43m,\u001b[49m\n\u001b[1;32m    568\u001b[0m \u001b[43m        \u001b[49m\u001b[43mevaluation_parameters\u001b[49m\u001b[38;5;241;43m=\u001b[39;49m\u001b[38;5;28;43mself\u001b[39;49m\u001b[38;5;241;43m.\u001b[39;49m\u001b[43m_expectation_suite\u001b[49m\u001b[38;5;241;43m.\u001b[39;49m\u001b[43mevaluation_parameters\u001b[49m\u001b[43m,\u001b[49m\n\u001b[1;32m    569\u001b[0m \u001b[43m        \u001b[49m\u001b[43mdata_context\u001b[49m\u001b[38;5;241;43m=\u001b[39;49m\u001b[38;5;28;43mself\u001b[39;49m\u001b[38;5;241;43m.\u001b[39;49m\u001b[43m_data_context\u001b[49m\u001b[43m,\u001b[49m\n\u001b[1;32m    570\u001b[0m \u001b[43m        \u001b[49m\u001b[43mruntime_configuration\u001b[49m\u001b[38;5;241;43m=\u001b[39;49m\u001b[43mbasic_runtime_configuration\u001b[49m\u001b[43m,\u001b[49m\n\u001b[1;32m    571\u001b[0m \u001b[43m    \u001b[49m\u001b[43m)\u001b[49m\n\u001b[1;32m    573\u001b[0m \u001b[38;5;66;03m# If validate has set active_validation to true, then we do not save the config to avoid\u001b[39;00m\n\u001b[1;32m    574\u001b[0m \u001b[38;5;66;03m# saving updating expectation configs to the same suite during validation runs\u001b[39;00m\n\u001b[1;32m    575\u001b[0m \u001b[38;5;28;01mif\u001b[39;00m \u001b[38;5;28mself\u001b[39m\u001b[38;5;241m.\u001b[39m_active_validation \u001b[38;5;129;01mis\u001b[39;00m \u001b[38;5;28;01mTrue\u001b[39;00m:\n",
      "File \u001b[0;32m~/opt/anaconda3/lib/python3.9/site-packages/great_expectations/expectations/expectation.py:1265\u001b[0m, in \u001b[0;36mExpectation.validate\u001b[0;34m(self, validator, configuration, evaluation_parameters, interactive_evaluation, data_context, runtime_configuration)\u001b[0m\n\u001b[1;32m   1256\u001b[0m \u001b[38;5;28mself\u001b[39m\u001b[38;5;241m.\u001b[39m_warn_if_result_format_config_in_expectation_configuration(\n\u001b[1;32m   1257\u001b[0m     configuration\u001b[38;5;241m=\u001b[39mconfiguration\n\u001b[1;32m   1258\u001b[0m )\n\u001b[1;32m   1260\u001b[0m configuration\u001b[38;5;241m.\u001b[39mprocess_evaluation_parameters(\n\u001b[1;32m   1261\u001b[0m     evaluation_parameters, interactive_evaluation, data_context\n\u001b[1;32m   1262\u001b[0m )\n\u001b[1;32m   1263\u001b[0m expectation_validation_result_list: \u001b[38;5;28mlist\u001b[39m[\n\u001b[1;32m   1264\u001b[0m     ExpectationValidationResult\n\u001b[0;32m-> 1265\u001b[0m ] \u001b[38;5;241m=\u001b[39m \u001b[43mvalidator\u001b[49m\u001b[38;5;241;43m.\u001b[39;49m\u001b[43mgraph_validate\u001b[49m\u001b[43m(\u001b[49m\n\u001b[1;32m   1266\u001b[0m \u001b[43m    \u001b[49m\u001b[43mconfigurations\u001b[49m\u001b[38;5;241;43m=\u001b[39;49m\u001b[43m[\u001b[49m\u001b[43mconfiguration\u001b[49m\u001b[43m]\u001b[49m\u001b[43m,\u001b[49m\n\u001b[1;32m   1267\u001b[0m \u001b[43m    \u001b[49m\u001b[43mruntime_configuration\u001b[49m\u001b[38;5;241;43m=\u001b[39;49m\u001b[43mruntime_configuration\u001b[49m\u001b[43m,\u001b[49m\n\u001b[1;32m   1268\u001b[0m \u001b[43m\u001b[49m\u001b[43m)\u001b[49m\n\u001b[1;32m   1269\u001b[0m \u001b[38;5;28;01mreturn\u001b[39;00m expectation_validation_result_list[\u001b[38;5;241m0\u001b[39m]\n",
      "File \u001b[0;32m~/opt/anaconda3/lib/python3.9/site-packages/great_expectations/validator/validator.py:1013\u001b[0m, in \u001b[0;36mValidator.graph_validate\u001b[0;34m(self, configurations, runtime_configuration)\u001b[0m\n\u001b[1;32m   1005\u001b[0m evrs: List[ExpectationValidationResult]\n\u001b[1;32m   1007\u001b[0m processed_configurations: List[ExpectationConfiguration] \u001b[38;5;241m=\u001b[39m []\n\u001b[1;32m   1009\u001b[0m (\n\u001b[1;32m   1010\u001b[0m     expectation_validation_graphs,\n\u001b[1;32m   1011\u001b[0m     evrs,\n\u001b[1;32m   1012\u001b[0m     processed_configurations,\n\u001b[0;32m-> 1013\u001b[0m ) \u001b[38;5;241m=\u001b[39m \u001b[38;5;28;43mself\u001b[39;49m\u001b[38;5;241;43m.\u001b[39;49m\u001b[43m_generate_metric_dependency_subgraphs_for_each_expectation_configuration\u001b[49m\u001b[43m(\u001b[49m\n\u001b[1;32m   1014\u001b[0m \u001b[43m    \u001b[49m\u001b[43mexpectation_configurations\u001b[49m\u001b[38;5;241;43m=\u001b[39;49m\u001b[43mconfigurations\u001b[49m\u001b[43m,\u001b[49m\n\u001b[1;32m   1015\u001b[0m \u001b[43m    \u001b[49m\u001b[43mprocessed_configurations\u001b[49m\u001b[38;5;241;43m=\u001b[39;49m\u001b[43mprocessed_configurations\u001b[49m\u001b[43m,\u001b[49m\n\u001b[1;32m   1016\u001b[0m \u001b[43m    \u001b[49m\u001b[43mcatch_exceptions\u001b[49m\u001b[38;5;241;43m=\u001b[39;49m\u001b[43mcatch_exceptions\u001b[49m\u001b[43m,\u001b[49m\n\u001b[1;32m   1017\u001b[0m \u001b[43m    \u001b[49m\u001b[43mruntime_configuration\u001b[49m\u001b[38;5;241;43m=\u001b[39;49m\u001b[43mruntime_configuration\u001b[49m\u001b[43m,\u001b[49m\n\u001b[1;32m   1018\u001b[0m \u001b[43m\u001b[49m\u001b[43m)\u001b[49m\n\u001b[1;32m   1020\u001b[0m graph: ValidationGraph \u001b[38;5;241m=\u001b[39m (\n\u001b[1;32m   1021\u001b[0m     \u001b[38;5;28mself\u001b[39m\u001b[38;5;241m.\u001b[39m_generate_suite_level_graph_from_expectation_level_sub_graphs(\n\u001b[1;32m   1022\u001b[0m         expectation_validation_graphs\u001b[38;5;241m=\u001b[39mexpectation_validation_graphs\n\u001b[1;32m   1023\u001b[0m     )\n\u001b[1;32m   1024\u001b[0m )\n\u001b[1;32m   1026\u001b[0m resolved_metrics: Dict[Tuple[\u001b[38;5;28mstr\u001b[39m, \u001b[38;5;28mstr\u001b[39m, \u001b[38;5;28mstr\u001b[39m], MetricValue]\n",
      "File \u001b[0;32m~/opt/anaconda3/lib/python3.9/site-packages/great_expectations/validator/validator.py:1147\u001b[0m, in \u001b[0;36mValidator._generate_metric_dependency_subgraphs_for_each_expectation_configuration\u001b[0;34m(self, expectation_configurations, processed_configurations, catch_exceptions, runtime_configuration)\u001b[0m\n\u001b[1;32m   1145\u001b[0m             evrs\u001b[38;5;241m.\u001b[39mappend(result)\n\u001b[1;32m   1146\u001b[0m         \u001b[38;5;28;01melse\u001b[39;00m:\n\u001b[0;32m-> 1147\u001b[0m             \u001b[38;5;28;01mraise\u001b[39;00m err\n\u001b[1;32m   1149\u001b[0m \u001b[38;5;28;01mreturn\u001b[39;00m expectation_validation_graphs, evrs, processed_configurations\n",
      "File \u001b[0;32m~/opt/anaconda3/lib/python3.9/site-packages/great_expectations/validator/validator.py:1125\u001b[0m, in \u001b[0;36mValidator._generate_metric_dependency_subgraphs_for_each_expectation_configuration\u001b[0;34m(self, expectation_configurations, processed_configurations, catch_exceptions, runtime_configuration)\u001b[0m\n\u001b[1;32m   1114\u001b[0m validation_dependencies: ValidationDependencies \u001b[38;5;241m=\u001b[39m (\n\u001b[1;32m   1115\u001b[0m     expectation_impl()\u001b[38;5;241m.\u001b[39mget_validation_dependencies(\n\u001b[1;32m   1116\u001b[0m         configuration\u001b[38;5;241m=\u001b[39mevaluated_config,\n\u001b[0;32m   (...)\u001b[0m\n\u001b[1;32m   1119\u001b[0m     )\n\u001b[1;32m   1120\u001b[0m )\n\u001b[1;32m   1122\u001b[0m \u001b[38;5;28;01mtry\u001b[39;00m:\n\u001b[1;32m   1123\u001b[0m     expectation_validation_graph: ExpectationValidationGraph \u001b[38;5;241m=\u001b[39m ExpectationValidationGraph(\n\u001b[1;32m   1124\u001b[0m         configuration\u001b[38;5;241m=\u001b[39mevaluated_config,\n\u001b[0;32m-> 1125\u001b[0m         graph\u001b[38;5;241m=\u001b[39m\u001b[38;5;28;43mself\u001b[39;49m\u001b[38;5;241;43m.\u001b[39;49m\u001b[43m_metrics_calculator\u001b[49m\u001b[38;5;241;43m.\u001b[39;49m\u001b[43mbuild_metric_dependency_graph\u001b[49m\u001b[43m(\u001b[49m\n\u001b[1;32m   1126\u001b[0m \u001b[43m            \u001b[49m\u001b[43mmetric_configurations\u001b[49m\u001b[38;5;241;43m=\u001b[39;49m\u001b[43mvalidation_dependencies\u001b[49m\u001b[38;5;241;43m.\u001b[39;49m\u001b[43mget_metric_configurations\u001b[49m\u001b[43m(\u001b[49m\u001b[43m)\u001b[49m\u001b[43m,\u001b[49m\n\u001b[1;32m   1127\u001b[0m \u001b[43m            \u001b[49m\u001b[43mruntime_configuration\u001b[49m\u001b[38;5;241;43m=\u001b[39;49m\u001b[43mruntime_configuration\u001b[49m\u001b[43m,\u001b[49m\n\u001b[1;32m   1128\u001b[0m \u001b[43m        \u001b[49m\u001b[43m)\u001b[49m,\n\u001b[1;32m   1129\u001b[0m     )\n\u001b[1;32m   1130\u001b[0m     expectation_validation_graphs\u001b[38;5;241m.\u001b[39mappend(expectation_validation_graph)\n\u001b[1;32m   1131\u001b[0m     processed_configurations\u001b[38;5;241m.\u001b[39mappend(evaluated_config)\n",
      "File \u001b[0;32m~/opt/anaconda3/lib/python3.9/site-packages/great_expectations/validator/metrics_calculator.py:202\u001b[0m, in \u001b[0;36mMetricsCalculator.build_metric_dependency_graph\u001b[0;34m(self, metric_configurations, runtime_configuration)\u001b[0m\n\u001b[1;32m    200\u001b[0m metric_configuration: MetricConfiguration\n\u001b[1;32m    201\u001b[0m \u001b[38;5;28;01mfor\u001b[39;00m metric_configuration \u001b[38;5;129;01min\u001b[39;00m metric_configurations:\n\u001b[0;32m--> 202\u001b[0m     \u001b[43mgraph\u001b[49m\u001b[38;5;241;43m.\u001b[39;49m\u001b[43mbuild_metric_dependency_graph\u001b[49m\u001b[43m(\u001b[49m\n\u001b[1;32m    203\u001b[0m \u001b[43m        \u001b[49m\u001b[43mmetric_configuration\u001b[49m\u001b[38;5;241;43m=\u001b[39;49m\u001b[43mmetric_configuration\u001b[49m\u001b[43m,\u001b[49m\n\u001b[1;32m    204\u001b[0m \u001b[43m        \u001b[49m\u001b[43mruntime_configuration\u001b[49m\u001b[38;5;241;43m=\u001b[39;49m\u001b[43mruntime_configuration\u001b[49m\u001b[43m,\u001b[49m\n\u001b[1;32m    205\u001b[0m \u001b[43m    \u001b[49m\u001b[43m)\u001b[49m\n\u001b[1;32m    207\u001b[0m \u001b[38;5;28;01mreturn\u001b[39;00m graph\n",
      "File \u001b[0;32m~/opt/anaconda3/lib/python3.9/site-packages/great_expectations/validator/validation_graph.py:121\u001b[0m, in \u001b[0;36mValidationGraph.build_metric_dependency_graph\u001b[0;34m(self, metric_configuration, runtime_configuration)\u001b[0m\n\u001b[1;32m    116\u001b[0m metric_impl_klass: MetricProvider\n\u001b[1;32m    117\u001b[0m metric_provider: Callable\n\u001b[1;32m    118\u001b[0m (\n\u001b[1;32m    119\u001b[0m     metric_impl_klass,\n\u001b[1;32m    120\u001b[0m     metric_provider,\n\u001b[0;32m--> 121\u001b[0m ) \u001b[38;5;241m=\u001b[39m \u001b[38;5;28;43mself\u001b[39;49m\u001b[38;5;241;43m.\u001b[39;49m\u001b[43mset_metric_configuration_default_kwargs_if_absent\u001b[49m\u001b[43m(\u001b[49m\n\u001b[1;32m    122\u001b[0m \u001b[43m    \u001b[49m\u001b[43mmetric_configuration\u001b[49m\u001b[38;5;241;43m=\u001b[39;49m\u001b[43mmetric_configuration\u001b[49m\n\u001b[1;32m    123\u001b[0m \u001b[43m\u001b[49m\u001b[43m)\u001b[49m\n\u001b[1;32m    125\u001b[0m metric_dependencies \u001b[38;5;241m=\u001b[39m metric_impl_klass\u001b[38;5;241m.\u001b[39mget_evaluation_dependencies(\n\u001b[1;32m    126\u001b[0m     metric\u001b[38;5;241m=\u001b[39mmetric_configuration,\n\u001b[1;32m    127\u001b[0m     execution_engine\u001b[38;5;241m=\u001b[39m\u001b[38;5;28mself\u001b[39m\u001b[38;5;241m.\u001b[39m_execution_engine,\n\u001b[1;32m    128\u001b[0m     runtime_configuration\u001b[38;5;241m=\u001b[39mruntime_configuration,\n\u001b[1;32m    129\u001b[0m )\n\u001b[1;32m    131\u001b[0m \u001b[38;5;28;01mif\u001b[39;00m \u001b[38;5;28mlen\u001b[39m(metric_dependencies) \u001b[38;5;241m==\u001b[39m \u001b[38;5;241m0\u001b[39m:\n",
      "File \u001b[0;32m~/opt/anaconda3/lib/python3.9/site-packages/great_expectations/validator/validation_graph.py:165\u001b[0m, in \u001b[0;36mValidationGraph.set_metric_configuration_default_kwargs_if_absent\u001b[0;34m(self, metric_configuration)\u001b[0m\n\u001b[1;32m    163\u001b[0m metric_impl_klass: MetricProvider\n\u001b[1;32m    164\u001b[0m metric_provider: Callable\n\u001b[0;32m--> 165\u001b[0m metric_impl_klass, metric_provider \u001b[38;5;241m=\u001b[39m \u001b[43mget_metric_provider\u001b[49m\u001b[43m(\u001b[49m\n\u001b[1;32m    166\u001b[0m \u001b[43m    \u001b[49m\u001b[43mmetric_name\u001b[49m\u001b[38;5;241;43m=\u001b[39;49m\u001b[43mmetric_configuration\u001b[49m\u001b[38;5;241;43m.\u001b[39;49m\u001b[43mmetric_name\u001b[49m\u001b[43m,\u001b[49m\n\u001b[1;32m    167\u001b[0m \u001b[43m    \u001b[49m\u001b[43mexecution_engine\u001b[49m\u001b[38;5;241;43m=\u001b[39;49m\u001b[38;5;28;43mself\u001b[39;49m\u001b[38;5;241;43m.\u001b[39;49m\u001b[43m_execution_engine\u001b[49m\u001b[43m,\u001b[49m\n\u001b[1;32m    168\u001b[0m \u001b[43m\u001b[49m\u001b[43m)\u001b[49m\n\u001b[1;32m    169\u001b[0m \u001b[38;5;28mself\u001b[39m\u001b[38;5;241m.\u001b[39m_set_default_metric_kwargs_if_absent(\n\u001b[1;32m    170\u001b[0m     default_kwarg_values\u001b[38;5;241m=\u001b[39mmetric_impl_klass\u001b[38;5;241m.\u001b[39mdefault_kwarg_values,\n\u001b[1;32m    171\u001b[0m     metric_kwargs\u001b[38;5;241m=\u001b[39mmetric_configuration\u001b[38;5;241m.\u001b[39mmetric_domain_kwargs,\n\u001b[1;32m    172\u001b[0m     keys\u001b[38;5;241m=\u001b[39mmetric_impl_klass\u001b[38;5;241m.\u001b[39mdomain_keys,\n\u001b[1;32m    173\u001b[0m )\n\u001b[1;32m    174\u001b[0m \u001b[38;5;28mself\u001b[39m\u001b[38;5;241m.\u001b[39m_set_default_metric_kwargs_if_absent(\n\u001b[1;32m    175\u001b[0m     default_kwarg_values\u001b[38;5;241m=\u001b[39mmetric_impl_klass\u001b[38;5;241m.\u001b[39mdefault_kwarg_values,\n\u001b[1;32m    176\u001b[0m     metric_kwargs\u001b[38;5;241m=\u001b[39mmetric_configuration\u001b[38;5;241m.\u001b[39mmetric_value_kwargs,\n\u001b[1;32m    177\u001b[0m     keys\u001b[38;5;241m=\u001b[39mmetric_impl_klass\u001b[38;5;241m.\u001b[39mvalue_keys,\n\u001b[1;32m    178\u001b[0m )\n",
      "File \u001b[0;32m~/opt/anaconda3/lib/python3.9/site-packages/great_expectations/expectations/registry.py:280\u001b[0m, in \u001b[0;36mget_metric_provider\u001b[0;34m(metric_name, execution_engine)\u001b[0m\n\u001b[1;32m    278\u001b[0m     \u001b[38;5;28;01mreturn\u001b[39;00m metric_definition[\u001b[38;5;124m\"\u001b[39m\u001b[38;5;124mproviders\u001b[39m\u001b[38;5;124m\"\u001b[39m][\u001b[38;5;28mtype\u001b[39m(execution_engine)\u001b[38;5;241m.\u001b[39m\u001b[38;5;18m__name__\u001b[39m]\n\u001b[1;32m    279\u001b[0m \u001b[38;5;28;01mexcept\u001b[39;00m \u001b[38;5;167;01mKeyError\u001b[39;00m:\n\u001b[0;32m--> 280\u001b[0m     \u001b[38;5;28;01mraise\u001b[39;00m gx_exceptions\u001b[38;5;241m.\u001b[39mMetricProviderError(\n\u001b[1;32m    281\u001b[0m         \u001b[38;5;124mf\u001b[39m\u001b[38;5;124m\"\u001b[39m\u001b[38;5;124mNo provider found for \u001b[39m\u001b[38;5;132;01m{\u001b[39;00mmetric_name\u001b[38;5;132;01m}\u001b[39;00m\u001b[38;5;124m using \u001b[39m\u001b[38;5;132;01m{\u001b[39;00m\u001b[38;5;28mtype\u001b[39m(execution_engine)\u001b[38;5;241m.\u001b[39m\u001b[38;5;18m__name__\u001b[39m\u001b[38;5;132;01m}\u001b[39;00m\u001b[38;5;124m\"\u001b[39m\n\u001b[1;32m    282\u001b[0m     )\n",
      "\u001b[0;31mMetricProviderError\u001b[0m: No provider found for column_values.match_strftime_format.unexpected_count using SqlAlchemyExecutionEngine"
     ]
    }
   ],
   "source": [
    "# validator.expect_column_values_to_match_strftime_format(column=\"elt_ts\",strftime_format=\"%y-%b-%d %H:%M:%S.%f\")"
   ]
  },
  {
   "cell_type": "code",
   "execution_count": 19,
   "id": "74c1a36d",
   "metadata": {},
   "outputs": [
    {
     "data": {
      "application/vnd.jupyter.widget-view+json": {
       "model_id": "072b287ba68e4c4a87419fa45fd8d2a7",
       "version_major": 2,
       "version_minor": 0
      },
      "text/plain": [
       "Calculating Metrics:   0%|          | 0/1 [00:00<?, ?it/s]"
      ]
     },
     "metadata": {},
     "output_type": "display_data"
    },
    {
     "name": "stdout",
     "output_type": "stream",
     "text": [
      "2023-02-22T21:14:46+0530 - WARNING - No recognized sqlalchemy types in type_list for current dialect.\n"
     ]
    },
    {
     "data": {
      "text/plain": [
       "{\n",
       "  \"meta\": {},\n",
       "  \"result\": {\n",
       "    \"observed_value\": \"_CUSTOM_DECIMAL\"\n",
       "  },\n",
       "  \"exception_info\": {\n",
       "    \"raised_exception\": false,\n",
       "    \"exception_traceback\": null,\n",
       "    \"exception_message\": null\n",
       "  },\n",
       "  \"success\": false\n",
       "}"
      ]
     },
     "execution_count": 19,
     "metadata": {},
     "output_type": "execute_result"
    }
   ],
   "source": [
    "validator.expect_column_values_to_be_of_type(\"employee_id\",\"int\")"
   ]
  },
  {
   "cell_type": "code",
   "execution_count": 27,
   "id": "6c441c3c",
   "metadata": {},
   "outputs": [
    {
     "name": "stdout",
     "output_type": "stream",
     "text": [
      "2023-02-23T12:55:27+0530 - INFO - FileDataContext loading zep config\n",
      "2023-02-23T12:55:27+0530 - INFO - GxConfig.parse_yaml() failed with errors - [{'loc': ('xdatasources',), 'msg': 'field required', 'type': 'value_error.missing'}]\n",
      "2023-02-23T12:55:27+0530 - INFO - GxConfig.parse_yaml() returning empty `xdatasources`\n",
      "2023-02-23T12:55:27+0530 - INFO - Loading 'datasources' ->\n",
      "{}\n",
      "2023-02-23T12:55:27+0530 - INFO - Loaded 'datasources' ->\n",
      "{}\n"
     ]
    }
   ],
   "source": [
    "context1 = gx.data_context.DataContext()"
   ]
  },
  {
   "cell_type": "code",
   "execution_count": 41,
   "id": "c022ec02",
   "metadata": {},
   "outputs": [],
   "source": [
    "# batch_kwargs = {\n",
    "#     \"datasource_name\": \"my_datasource_new\",\n",
    "#     \"data_connector_name\": \"default_inferred_data_connector_name\",\n",
    "#     \"data_asset_name\": \"my_schema.employees\",\n",
    "#     \"limit\": 1000,\n",
    "# }\n",
    "\n",
    "from great_expectations.core.batch import BatchRequest\n",
    "\n",
    "batch_kwargs = BatchRequest(\n",
    "    datasource_name=\"my_datasource_new\",\n",
    "    data_connector_name=\"default_inferred_data_connector_name\",\n",
    "    data_asset_name=\"my_schema.employees\",\n",
    ")\n",
    "\n",
    "batch = context.get_batch(\n",
    "    batch_request=batch_kwargs\n",
    ")"
   ]
  },
  {
   "cell_type": "code",
   "execution_count": 38,
   "id": "3bf07ba3",
   "metadata": {},
   "outputs": [
    {
     "name": "stdout",
     "output_type": "stream",
     "text": [
      "{\n",
      "  \"data\": \"<great_expectations.execution_engine.sqlalchemy_batch_data.SqlAlchemyBatchData object at 0x7fb060de7070>\",\n",
      "  \"batch_request\": {\n",
      "    \"datasource_name\": \"my_datasource_new\",\n",
      "    \"data_connector_name\": \"default_inferred_data_connector_name\",\n",
      "    \"data_asset_name\": \"my_schema.employees\"\n",
      "  },\n",
      "  \"batch_definition\": {\n",
      "    \"datasource_name\": \"my_datasource_new\",\n",
      "    \"data_connector_name\": \"default_inferred_data_connector_name\",\n",
      "    \"data_asset_name\": \"my_schema.employees\",\n",
      "    \"batch_identifiers\": {}\n",
      "  },\n",
      "  \"batch_spec\": {\n",
      "    \"data_asset_name\": \"my_schema.employees\",\n",
      "    \"table_name\": \"employees\",\n",
      "    \"batch_identifiers\": {},\n",
      "    \"type\": \"table\",\n",
      "    \"data_asset_name_prefix\": \"\",\n",
      "    \"data_asset_name_suffix\": \"\",\n",
      "    \"include_schema_name\": true,\n",
      "    \"schema_name\": \"my_schema\"\n",
      "  },\n",
      "  \"batch_markers\": {\n",
      "    \"ge_load_time\": \"20230223T073137.874227Z\"\n",
      "  }\n",
      "}\n"
     ]
    }
   ],
   "source": [
    "# batch = context.get_batch(batch_kwargs,\"expectation_test\")\n",
    "print(batch)"
   ]
  },
  {
   "cell_type": "markdown",
   "id": "dcaf6894",
   "metadata": {},
   "source": [
    "## Review & Save Your Expectations\n",
    "\n",
    "Let's save the expectation suite as a JSON file in the `great_expectations/expectations` directory of your project.\n",
    "\n",
    "Let's now rebuild your Data Docs, which helps you communicate about your data with both machines and humans."
   ]
  },
  {
   "cell_type": "code",
   "execution_count": 22,
   "id": "0a0c9ea4",
   "metadata": {},
   "outputs": [
    {
     "name": "stdout",
     "output_type": "stream",
     "text": [
      "2023-02-22T21:17:07+0530 - INFO - \t8 expectation(s) included in expectation_suite.\n",
      "{\n",
      "  \"data_asset_type\": null,\n",
      "  \"meta\": {\n",
      "    \"citations\": [\n",
      "      {\n",
      "        \"batch_request\": {\n",
      "          \"data_asset_name\": \"my_schema.employees\",\n",
      "          \"data_connector_name\": \"default_inferred_data_connector_name\",\n",
      "          \"datasource_name\": \"my_datasource_new\",\n",
      "          \"limit\": 1000\n",
      "        },\n",
      "        \"citation_date\": \"2023-02-22T15:03:19.595221Z\",\n",
      "        \"comment\": \"Created suite added via CLI\"\n",
      "      }\n",
      "    ],\n",
      "    \"great_expectations_version\": \"0.15.48\"\n",
      "  },\n",
      "  \"expectation_suite_name\": \"expectation_test\",\n",
      "  \"ge_cloud_id\": null,\n",
      "  \"expectations\": [\n",
      "    {\n",
      "      \"kwargs\": {\n",
      "        \"value\": 13\n",
      "      },\n",
      "      \"meta\": {},\n",
      "      \"expectation_type\": \"expect_table_column_count_to_equal\"\n",
      "    },\n",
      "    {\n",
      "      \"kwargs\": {\n",
      "        \"min_value\": 1,\n",
      "        \"max_value\": 1000\n",
      "      },\n",
      "      \"meta\": {},\n",
      "      \"expectation_type\": \"expect_table_row_count_to_be_between\"\n",
      "    },\n",
      "    {\n",
      "      \"kwargs\": {\n",
      "        \"column_list\": [\n",
      "          \"employee_id\",\n",
      "          \"first_name\",\n",
      "          \"last_name\",\n",
      "          \"email\",\n",
      "          \"phone_number\",\n",
      "          \"hire_date\",\n",
      "          \"job_id\",\n",
      "          \"salary\",\n",
      "          \"manager_id\",\n",
      "          \"department_id\",\n",
      "          \"elt_ts\",\n",
      "          \"elt_by\",\n",
      "          \"file_name\"\n",
      "        ]\n",
      "      },\n",
      "      \"meta\": {},\n",
      "      \"expectation_type\": \"expect_table_columns_to_match_ordered_list\"\n",
      "    },\n",
      "    {\n",
      "      \"kwargs\": {\n",
      "        \"column_list\": [\n",
      "          \"employee_id\",\n",
      "          \"email\",\n",
      "          \"phone_number\"\n",
      "        ]\n",
      "      },\n",
      "      \"meta\": {},\n",
      "      \"expectation_type\": \"expect_compound_columns_to_be_unique\"\n",
      "    },\n",
      "    {\n",
      "      \"kwargs\": {\n",
      "        \"column\": \"employee_id\"\n",
      "      },\n",
      "      \"meta\": {},\n",
      "      \"expectation_type\": \"expect_column_values_to_be_unique\"\n",
      "    },\n",
      "    {\n",
      "      \"kwargs\": {\n",
      "        \"column\": \"elt_ts\",\n",
      "        \"min_value\": \"2023-02-05 04:21:14.674\",\n",
      "        \"max_value\": \"2023-02-06 04:21:14.674\"\n",
      "      },\n",
      "      \"meta\": {},\n",
      "      \"expectation_type\": \"expect_column_values_to_be_between\"\n",
      "    },\n",
      "    {\n",
      "      \"kwargs\": {\n",
      "        \"column\": \"salary\",\n",
      "        \"strict_min\": 0\n",
      "      },\n",
      "      \"meta\": {},\n",
      "      \"expectation_type\": \"expect_column_min_to_be_between\"\n",
      "    },\n",
      "    {\n",
      "      \"kwargs\": {\n",
      "        \"column\": \"employee_id\",\n",
      "        \"type_\": \"int\"\n",
      "      },\n",
      "      \"meta\": {},\n",
      "      \"expectation_type\": \"expect_column_values_to_be_of_type\"\n",
      "    }\n",
      "  ]\n",
      "}\n",
      "2023-02-22T21:17:07+0530 - INFO - \t8 expectation(s) included in expectation_suite.\n",
      "2023-02-22T21:17:08+0530 - INFO - \t8 expectation(s) included in expectation_suite.\n"
     ]
    },
    {
     "data": {
      "application/vnd.jupyter.widget-view+json": {
       "model_id": "ca3d80bbfc3346bc9cec3cee4e9a0fe4",
       "version_major": 2,
       "version_minor": 0
      },
      "text/plain": [
       "Calculating Metrics:   0%|          | 0/25 [00:00<?, ?it/s]"
      ]
     },
     "metadata": {},
     "output_type": "display_data"
    },
    {
     "name": "stdout",
     "output_type": "stream",
     "text": [
      "2023-02-22T21:17:11+0530 - WARNING - No recognized sqlalchemy types in type_list for current dialect.\n"
     ]
    }
   ],
   "source": [
    "print(validator.get_expectation_suite(discard_failed_expectations=False))\n",
    "validator.save_expectation_suite(discard_failed_expectations=False)\n",
    "\n",
    "checkpoint_config = {\n",
    "    \"class_name\": \"SimpleCheckpoint\",\n",
    "    \"validations\": [\n",
    "        {\n",
    "            \"batch_request\": batch_request,\n",
    "            \"expectation_suite_name\": expectation_suite_name\n",
    "        }\n",
    "    ]\n",
    "}\n",
    "checkpoint = SimpleCheckpoint(\n",
    "    f\"{validator.active_batch_definition.data_asset_name}_{expectation_suite_name}\",\n",
    "    context,\n",
    "    **checkpoint_config\n",
    ")\n",
    "checkpoint_result = checkpoint.run()\n",
    "\n",
    "context.build_data_docs()\n",
    "\n",
    "validation_result_identifier = checkpoint_result.list_validation_result_identifiers()[0]\n",
    "context.open_data_docs(resource_identifier=validation_result_identifier)"
   ]
  },
  {
   "cell_type": "code",
   "execution_count": null,
   "id": "7a7590a4",
   "metadata": {},
   "outputs": [],
   "source": []
  }
 ],
 "metadata": {
  "kernelspec": {
   "display_name": "Python 3 (ipykernel)",
   "language": "python",
   "name": "python3"
  },
  "language_info": {
   "codemirror_mode": {
    "name": "ipython",
    "version": 3
   },
   "file_extension": ".py",
   "mimetype": "text/x-python",
   "name": "python",
   "nbconvert_exporter": "python",
   "pygments_lexer": "ipython3",
   "version": "3.9.12"
  }
 },
 "nbformat": 4,
 "nbformat_minor": 5
}
