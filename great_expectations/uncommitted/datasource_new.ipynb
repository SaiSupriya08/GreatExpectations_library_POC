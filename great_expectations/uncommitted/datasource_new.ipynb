{
 "cells": [
  {
   "cell_type": "markdown",
   "id": "075f52d0",
   "metadata": {},
   "source": [
    "# Create a new sqlalchemy Datasource\n",
    "Use this notebook to configure a new sqlalchemy Datasource and add it to your project."
   ]
  },
  {
   "cell_type": "code",
   "execution_count": 91,
   "id": "73404649",
   "metadata": {},
   "outputs": [
    {
     "name": "stdout",
     "output_type": "stream",
     "text": [
      "2023-02-22T20:30:00+0530 - INFO - FileDataContext loading zep config\n",
      "2023-02-22T20:30:00+0530 - INFO - GxConfig.parse_yaml() failed with errors - [{'loc': ('xdatasources',), 'msg': 'field required', 'type': 'value_error.missing'}]\n",
      "2023-02-22T20:30:00+0530 - INFO - GxConfig.parse_yaml() returning empty `xdatasources`\n",
      "2023-02-22T20:30:00+0530 - INFO - Loading 'datasources' ->\n",
      "{}\n",
      "2023-02-22T20:30:00+0530 - INFO - Loaded 'datasources' ->\n",
      "{}\n"
     ]
    }
   ],
   "source": [
    "import great_expectations as gx\n",
    "from great_expectations.cli.datasource import sanitize_yaml_and_save_datasource, check_if_datasource_name_exists\n",
    "context = gx.get_context()"
   ]
  },
  {
   "cell_type": "markdown",
   "id": "6e2c3924",
   "metadata": {},
   "source": [
    "## Customize Your Datasource Configuration\n",
    "\n",
    "**If you are new to Great Expectations Datasources,** you should check out our [how-to documentation](https://docs.greatexpectations.io/docs/guides/connecting_to_your_data/connect_to_data_overview)\n",
    "\n",
    "**My configuration is not so simple - are there more advanced options?**\n",
    "Glad you asked! Datasources are versatile. Please see our [How To Guides](https://docs.greatexpectations.io/docs/guides/connecting_to_your_data/connect_to_data_overview)!\n",
    "\n",
    "Give your datasource a unique name:"
   ]
  },
  {
   "cell_type": "code",
   "execution_count": 92,
   "id": "5328df39",
   "metadata": {},
   "outputs": [],
   "source": [
    "datasource_name = \"my_datasource_new\""
   ]
  },
  {
   "cell_type": "markdown",
   "id": "7cd2c9b3",
   "metadata": {},
   "source": [
    "### For SQL based Datasources:\n",
    "\n",
    "Here we are creating an example configuration based on the database backend you specified in the CLI.  The configuration contains an **InferredAssetSqlDataConnector**, which will add a Data Asset for each table in the database, a **ConfiguredAssetDataConnector**, which will add explicitly defined Data Assets, and a **RuntimeDataConnector**, which can accept SQL queries.\n",
    "\n",
    "If any of these configuration options are not applicable, they can be removed. This is just an example, and you may customize this as you wish!\n",
    "\n",
    "Also, if you would like to learn more about the **DataConnectors** used in this configuration, please see our docs on [InferredAssetDataConnectors](https://docs.greatexpectations.io/docs/guides/connecting_to_your_data/how_to_configure_an_inferredassetdataconnector), [ConfiguredAssetDataConnectors](https://docs.greatexpectations.io/docs/guides/connecting_to_your_data/how_to_configure_a_configuredassetdataconnector), and [RuntimeDataConnectors](https://docs.greatexpectations.io/docs/guides/connecting_to_your_data/how_to_configure_a_runtimedataconnector).\n",
    "\n",
    "Credentials will not be saved until you run the last cell. The credentials will be saved in `uncommitted/config_variables.yml` which should not be added to source control."
   ]
  },
  {
   "cell_type": "code",
   "execution_count": 93,
   "id": "cbf40bb4",
   "metadata": {},
   "outputs": [],
   "source": [
    "host = \"ab12092.ap-southeast-1\"  # The account name (include region -- ex 'ABCD.us-east-1')\n",
    "username = \"SupriyaNeela\"\n",
    "database = \"assignment_db\"  # The database name\n",
    "schema_name = \"my_schema\"  # The schema name\n",
    "warehouse = \"assignment_wh\"  # The warehouse name\n",
    "role = \"admin\"  # The role name\n",
    "table_name = \"employees\"  # A table that you would like to add initially as a Data Asset\n",
    "password = \"Supriya@08\""
   ]
  },
  {
   "cell_type": "code",
   "execution_count": 94,
   "id": "7bda5cfe",
   "metadata": {},
   "outputs": [
    {
     "name": "stdout",
     "output_type": "stream",
     "text": [
      "\n",
      "name: my_datasource_new\n",
      "class_name: Datasource\n",
      "execution_engine:\n",
      "  class_name: SqlAlchemyExecutionEngine\n",
      "  credentials:\n",
      "    host: ab12092.ap-southeast-1\n",
      "    username: SupriyaNeela\n",
      "    database: assignment_db\n",
      "    query:\n",
      "      schema: my_schema\n",
      "      warehouse: assignment_wh\n",
      "      role: admin\n",
      "    password: Supriya@08\n",
      "    drivername: snowflake\n",
      "data_connectors:\n",
      "  default_runtime_data_connector_name:\n",
      "    class_name: RuntimeDataConnector\n",
      "    batch_identifiers:\n",
      "      - default_identifier_name\n",
      "  default_inferred_data_connector_name:\n",
      "    class_name: InferredAssetSqlDataConnector\n",
      "    include_schema_name: True\n",
      "    introspection_directives:\n",
      "      schema_name: my_schema\n",
      "  default_configured_data_connector_name:\n",
      "    class_name: ConfiguredAssetSqlDataConnector\n",
      "    assets:\n",
      "      employees:\n",
      "        class_name: Asset\n",
      "        schema_name: my_schema\n",
      "\n"
     ]
    }
   ],
   "source": [
    "example_yaml = f\"\"\"\n",
    "name: {datasource_name}\n",
    "class_name: Datasource\n",
    "execution_engine:\n",
    "  class_name: SqlAlchemyExecutionEngine\n",
    "  credentials:\n",
    "    host: {host}\n",
    "    username: {username}\n",
    "    database: {database}\n",
    "    query:\n",
    "      schema: {schema_name}\n",
    "      warehouse: {warehouse}\n",
    "      role: {role}\n",
    "    password: {password}\n",
    "    drivername: snowflake\n",
    "data_connectors:\n",
    "  default_runtime_data_connector_name:\n",
    "    class_name: RuntimeDataConnector\n",
    "    batch_identifiers:\n",
    "      - default_identifier_name\n",
    "  default_inferred_data_connector_name:\n",
    "    class_name: InferredAssetSqlDataConnector\n",
    "    include_schema_name: True\n",
    "    introspection_directives:\n",
    "      schema_name: {schema_name}\n",
    "  default_configured_data_connector_name:\n",
    "    class_name: ConfiguredAssetSqlDataConnector\n",
    "    assets:\n",
    "      {table_name}:\n",
    "        class_name: Asset\n",
    "        schema_name: {schema_name}\n",
    "\"\"\"\n",
    "print(example_yaml)"
   ]
  },
  {
   "cell_type": "markdown",
   "id": "50ada363",
   "metadata": {},
   "source": [
    "# Test Your Datasource Configuration\n",
    "Here we will test your Datasource configuration to make sure it is valid.\n",
    "\n",
    "This `test_yaml_config()` function is meant to enable fast dev loops. **If your\n",
    "configuration is correct, this cell will show you some snippets of the data\n",
    "assets in the data source.** You can continually edit your Datasource config\n",
    "yaml and re-run the cell to check until the new config is valid.\n",
    "\n",
    "If you instead wish to use python instead of yaml to configure your Datasource,\n",
    "you can use `context.add_datasource()` and specify all the required parameters."
   ]
  },
  {
   "cell_type": "code",
   "execution_count": 95,
   "id": "4dde704a",
   "metadata": {},
   "outputs": [
    {
     "name": "stdout",
     "output_type": "stream",
     "text": [
      "Attempting to instantiate class from config...\n",
      "\tInstantiating as a Datasource, since class_name is Datasource\n",
      "\tSuccessfully instantiated Datasource\n",
      "\n",
      "\n",
      "ExecutionEngine class name: SqlAlchemyExecutionEngine\n",
      "Data Connectors:\n",
      "\tdefault_configured_data_connector_name : ConfiguredAssetSqlDataConnector\n",
      "\n",
      "\tAvailable data_asset_names (1 of 1):\n",
      "\t\temployees (1 of 1): [{}]\n",
      "\n",
      "\tUnmatched data_references (0 of 0):[]\n",
      "\n",
      "\tdefault_inferred_data_connector_name : InferredAssetSqlDataConnector\n",
      "\n",
      "\tAvailable data_asset_names (2 of 2):\n",
      "\t\tmy_schema.employees (1 of 1): [{}]\n",
      "\t\tmy_schema.employeesvariant (1 of 1): [{}]\n",
      "\n",
      "\tUnmatched data_references (0 of 0):[]\n",
      "\n",
      "\tdefault_runtime_data_connector_name:RuntimeDataConnector\n",
      "\n",
      "\tAvailable data_asset_names (0 of 0):\n",
      "\t\tNote : RuntimeDataConnector will not have data_asset_names until they are passed in through RuntimeBatchRequest\n",
      "\n",
      "\tUnmatched data_references (0 of 0): []\n",
      "\n"
     ]
    },
    {
     "data": {
      "text/plain": [
       "<great_expectations.datasource.new_datasource.Datasource at 0x7fef69b8a160>"
      ]
     },
     "execution_count": 95,
     "metadata": {},
     "output_type": "execute_result"
    }
   ],
   "source": [
    "context.test_yaml_config(yaml_config=example_yaml)"
   ]
  },
  {
   "cell_type": "markdown",
   "id": "cb8761e7",
   "metadata": {},
   "source": [
    "## Save Your Datasource Configuration\n",
    "Here we will save your Datasource in your Data Context once you are satisfied with the configuration. Note that `overwrite_existing` defaults to False, but you may change it to True if you wish to overwrite. Please note that if you wish to include comments you must add them directly to your `great_expectations.yml`."
   ]
  },
  {
   "cell_type": "code",
   "execution_count": 97,
   "id": "b589c31a",
   "metadata": {},
   "outputs": [
    {
     "data": {
      "text/plain": [
       "[{'data_connectors': {'default_inferred_data_connector_name': {'base_directory': '../data',\n",
       "    'class_name': 'InferredAssetFilesystemDataConnector',\n",
       "    'default_regex': {'group_names': ['data_asset_name'], 'pattern': '(.*)'},\n",
       "    'module_name': 'great_expectations.datasource.data_connector'},\n",
       "   'default_runtime_data_connector_name': {'class_name': 'RuntimeDataConnector',\n",
       "    'module_name': 'great_expectations.datasource.data_connector',\n",
       "    'assets': {'my_runtime_asset_name': {'batch_identifiers': ['runtime_batch_identifier_name'],\n",
       "      'class_name': 'Asset',\n",
       "      'module_name': 'great_expectations.datasource.data_connector.asset'}}}},\n",
       "  'class_name': 'Datasource',\n",
       "  'name': 'getting_started_datasource_test',\n",
       "  'module_name': 'great_expectations.datasource',\n",
       "  'execution_engine': {'class_name': 'PandasExecutionEngine',\n",
       "   'module_name': 'great_expectations.execution_engine'}},\n",
       " {'data_connectors': {'default_runtime_data_connector_name': {'batch_identifiers': ['default_identifier_name'],\n",
       "    'class_name': 'RuntimeDataConnector',\n",
       "    'module_name': 'great_expectations.datasource.data_connector'},\n",
       "   'default_inferred_data_connector_name': {'include_schema_name': True,\n",
       "    'class_name': 'InferredAssetSqlDataConnector',\n",
       "    'introspection_directives': {'schema_name': 'my_schema'},\n",
       "    'module_name': 'great_expectations.datasource.data_connector'},\n",
       "   'default_configured_data_connector_name': {'class_name': 'ConfiguredAssetSqlDataConnector',\n",
       "    'module_name': 'great_expectations.datasource.data_connector',\n",
       "    'assets': {'employees': {'schema_name': 'my_schema',\n",
       "      'class_name': 'Asset',\n",
       "      'module_name': 'great_expectations.datasource.data_connector.asset'}}}},\n",
       "  'class_name': 'Datasource',\n",
       "  'name': 'my_datasource_new',\n",
       "  'module_name': 'great_expectations.datasource',\n",
       "  'execution_engine': {'class_name': 'SqlAlchemyExecutionEngine',\n",
       "   'module_name': 'great_expectations.execution_engine',\n",
       "   'credentials': {'host': 'ab12092.ap-southeast-1',\n",
       "    'username': 'SupriyaNeela',\n",
       "    'database': 'assignment_db',\n",
       "    'query': {'schema': 'my_schema',\n",
       "     'warehouse': 'assignment_wh',\n",
       "     'role': 'admin'},\n",
       "    'password': '***',\n",
       "    'drivername': 'snowflake'}}}]"
      ]
     },
     "execution_count": 97,
     "metadata": {},
     "output_type": "execute_result"
    }
   ],
   "source": [
    "sanitize_yaml_and_save_datasource(context, example_yaml, overwrite_existing=True)\n",
    "context.list_datasources()"
   ]
  },
  {
   "cell_type": "markdown",
   "id": "7e5acd7a",
   "metadata": {},
   "source": [
    "Now you can close this notebook and delete it!"
   ]
  },
  {
   "cell_type": "code",
   "execution_count": 78,
   "id": "48cdee0e",
   "metadata": {},
   "outputs": [
    {
     "name": "stdout",
     "output_type": "stream",
     "text": [
      "{\n",
      "  \"anonymous_usage_statistics\": {\n",
      "    \"usage_statistics_url\": \"https://stats.greatexpectations.io/great_expectations/v1/usage_statistics\",\n",
      "    \"data_context_id\": \"2cd4d811-37fe-43f7-ac78-f6564538194d\",\n",
      "    \"explicit_url\": false,\n",
      "    \"enabled\": true,\n",
      "    \"explicit_id\": true\n",
      "  },\n",
      "  \"checkpoint_store_name\": \"checkpoint_store\",\n",
      "  \"config_variables_file_path\": \"uncommitted/config_variables.yml\",\n",
      "  \"config_version\": 3.0,\n",
      "  \"data_docs_sites\": {\n",
      "    \"local_site\": {\n",
      "      \"class_name\": \"SiteBuilder\",\n",
      "      \"show_how_to_buttons\": true,\n",
      "      \"store_backend\": {\n",
      "        \"class_name\": \"TupleFilesystemStoreBackend\",\n",
      "        \"base_directory\": \"uncommitted/data_docs/local_site/\"\n",
      "      },\n",
      "      \"site_index_builder\": {\n",
      "        \"class_name\": \"DefaultSiteIndexBuilder\"\n",
      "      }\n",
      "    }\n",
      "  },\n",
      "  \"datasources\": {\n",
      "    \"getting_started_datasource_test\": {\n",
      "      \"execution_engine\": {\n",
      "        \"module_name\": \"great_expectations.execution_engine\",\n",
      "        \"class_name\": \"PandasExecutionEngine\"\n",
      "      },\n",
      "      \"name\": \"getting_started_datasource_test\",\n",
      "      \"class_name\": \"Datasource\",\n",
      "      \"data_connectors\": {\n",
      "        \"default_inferred_data_connector_name\": {\n",
      "          \"default_regex\": {\n",
      "            \"group_names\": [\n",
      "              \"data_asset_name\"\n",
      "            ],\n",
      "            \"pattern\": \"(.*)\"\n",
      "          },\n",
      "          \"base_directory\": \"../data\",\n",
      "          \"name\": \"default_inferred_data_connector_name\",\n",
      "          \"class_name\": \"InferredAssetFilesystemDataConnector\",\n",
      "          \"module_name\": \"great_expectations.datasource.data_connector\"\n",
      "        },\n",
      "        \"default_runtime_data_connector_name\": {\n",
      "          \"assets\": {\n",
      "            \"my_runtime_asset_name\": {\n",
      "              \"module_name\": \"great_expectations.datasource.data_connector.asset\",\n",
      "              \"batch_identifiers\": [\n",
      "                \"runtime_batch_identifier_name\"\n",
      "              ],\n",
      "              \"class_name\": \"Asset\"\n",
      "            }\n",
      "          },\n",
      "          \"name\": \"default_runtime_data_connector_name\",\n",
      "          \"class_name\": \"RuntimeDataConnector\",\n",
      "          \"module_name\": \"great_expectations.datasource.data_connector\"\n",
      "        }\n",
      "      },\n",
      "      \"module_name\": \"great_expectations.datasource\"\n",
      "    },\n",
      "    \"my_datasource_new\": {\n",
      "      \"execution_engine\": {\n",
      "        \"module_name\": \"great_expectations.execution_engine\",\n",
      "        \"credentials\": {\n",
      "          \"host\": \"ab12092.ap-southeast-1\",\n",
      "          \"username\": \"SupriyaNeela\",\n",
      "          \"database\": \"assignment_db\",\n",
      "          \"query\": {\n",
      "            \"schema\": \"my_schema\",\n",
      "            \"warehouse\": \"assignment_wh\",\n",
      "            \"role\": \"admin\"\n",
      "          },\n",
      "          \"password\": \"***\",\n",
      "          \"drivername\": \"snowflake\"\n",
      "        },\n",
      "        \"class_name\": \"SqlAlchemyExecutionEngine\"\n",
      "      },\n",
      "      \"name\": \"my_datasource_new\",\n",
      "      \"class_name\": \"Datasource\",\n",
      "      \"data_connectors\": {\n",
      "        \"default_runtime_data_connector_name\": {\n",
      "          \"name\": \"default_runtime_data_connector_name\",\n",
      "          \"class_name\": \"RuntimeDataConnector\",\n",
      "          \"batch_identifiers\": [\n",
      "            \"default_identifier_name\"\n",
      "          ],\n",
      "          \"module_name\": \"great_expectations.datasource.data_connector\"\n",
      "        },\n",
      "        \"default_inferred_data_connector_name\": {\n",
      "          \"introspection_directives\": {\n",
      "            \"schema_name\": \"my_schema\"\n",
      "          },\n",
      "          \"name\": \"default_inferred_data_connector_name\",\n",
      "          \"class_name\": \"InferredAssetSqlDataConnector\",\n",
      "          \"include_schema_name\": true,\n",
      "          \"module_name\": \"great_expectations.datasource.data_connector\"\n",
      "        },\n",
      "        \"default_configured_data_connector_name\": {\n",
      "          \"assets\": {\n",
      "            \"employees\": {\n",
      "              \"module_name\": \"great_expectations.datasource.data_connector.asset\",\n",
      "              \"schema_name\": \"my_schema\",\n",
      "              \"class_name\": \"Asset\"\n",
      "            }\n",
      "          },\n",
      "          \"name\": \"default_configured_data_connector_name\",\n",
      "          \"class_name\": \"ConfiguredAssetSqlDataConnector\",\n",
      "          \"module_name\": \"great_expectations.datasource.data_connector\"\n",
      "        }\n",
      "      },\n",
      "      \"module_name\": \"great_expectations.datasource\"\n",
      "    }\n",
      "  },\n",
      "  \"evaluation_parameter_store_name\": \"evaluation_parameter_store\",\n",
      "  \"expectations_store_name\": \"expectations_store\",\n",
      "  \"include_rendered_content\": {\n",
      "    \"expectation_validation_result\": false,\n",
      "    \"globally\": false,\n",
      "    \"expectation_suite\": false\n",
      "  },\n",
      "  \"plugins_directory\": \"plugins/\",\n",
      "  \"stores\": {\n",
      "    \"expectations_store\": {\n",
      "      \"class_name\": \"ExpectationsStore\",\n",
      "      \"store_backend\": {\n",
      "        \"class_name\": \"TupleFilesystemStoreBackend\",\n",
      "        \"base_directory\": \"expectations/\"\n",
      "      }\n",
      "    },\n",
      "    \"validations_store\": {\n",
      "      \"class_name\": \"ValidationsStore\",\n",
      "      \"store_backend\": {\n",
      "        \"class_name\": \"TupleFilesystemStoreBackend\",\n",
      "        \"base_directory\": \"uncommitted/validations/\"\n",
      "      }\n",
      "    },\n",
      "    \"evaluation_parameter_store\": {\n",
      "      \"class_name\": \"EvaluationParameterStore\"\n",
      "    },\n",
      "    \"checkpoint_store\": {\n",
      "      \"class_name\": \"CheckpointStore\",\n",
      "      \"store_backend\": {\n",
      "        \"class_name\": \"TupleFilesystemStoreBackend\",\n",
      "        \"suppress_store_backend_id\": true,\n",
      "        \"base_directory\": \"checkpoints/\"\n",
      "      }\n",
      "    },\n",
      "    \"profiler_store\": {\n",
      "      \"class_name\": \"ProfilerStore\",\n",
      "      \"store_backend\": {\n",
      "        \"class_name\": \"TupleFilesystemStoreBackend\",\n",
      "        \"suppress_store_backend_id\": true,\n",
      "        \"base_directory\": \"profilers/\"\n",
      "      }\n",
      "    }\n",
      "  },\n",
      "  \"validations_store_name\": \"validations_store\"\n",
      "}\n"
     ]
    }
   ],
   "source": [
    "print(context)"
   ]
  },
  {
   "cell_type": "code",
   "execution_count": 79,
   "id": "043959a2",
   "metadata": {},
   "outputs": [
    {
     "ename": "TypeError",
     "evalue": "great_expectations.data_context.data_context.abstract_data_context.AbstractDataContext.add_datasource() argument after ** must be a mapping, not str",
     "output_type": "error",
     "traceback": [
      "\u001b[0;31m---------------------------------------------------------------------------\u001b[0m",
      "\u001b[0;31mTypeError\u001b[0m                                 Traceback (most recent call last)",
      "Input \u001b[0;32mIn [79]\u001b[0m, in \u001b[0;36m<cell line: 1>\u001b[0;34m()\u001b[0m\n\u001b[0;32m----> 1\u001b[0m context\u001b[38;5;241m.\u001b[39madd_datasource(\u001b[38;5;241m*\u001b[39m\u001b[38;5;241m*\u001b[39mexample_yaml)\n",
      "\u001b[0;31mTypeError\u001b[0m: great_expectations.data_context.data_context.abstract_data_context.AbstractDataContext.add_datasource() argument after ** must be a mapping, not str"
     ]
    }
   ],
   "source": [
    "context.add_datasource(**example_yaml)"
   ]
  },
  {
   "cell_type": "code",
   "execution_count": 80,
   "id": "2337964c",
   "metadata": {},
   "outputs": [],
   "source": [
    "import datetime\n",
    "import logging\n",
    "\n",
    "from great_expectations.core.batch import BatchRequest, RuntimeBatchRequest\n",
    "from great_expectations.data_context import BaseDataContext\n",
    "from great_expectations.data_context.types.base import (\n",
    "    DataContextConfig,\n",
    "    FilesystemStoreBackendDefaults,\n",
    ")\n",
    "from great_expectations.render.renderer import *\n",
    "from great_expectations.render.view import DefaultJinjaPageView\n",
    "from ruamel import yaml"
   ]
  },
  {
   "cell_type": "code",
   "execution_count": 81,
   "id": "7227ca07",
   "metadata": {},
   "outputs": [],
   "source": [
    "# Second test for BatchRequest naming a table\n",
    "batch_request = BatchRequest(\n",
    "    datasource_name=\"my_datasource_new\",\n",
    "    data_connector_name=\"default_inferred_data_connector_name\",\n",
    "    #data_asset_name=f\"{sfSchema.lower()}.employees\",  # this is the name of the table you want to retrieve\n",
    "    data_asset_name=\"my_schema.employees\",\n",
    ")\n",
    "context.create_expectation_suite(\n",
    "    expectation_suite_name=\"test_suite\", overwrite_existing=True\n",
    ")\n",
    "validator = context.get_validator(\n",
    "    batch_request=batch_request, expectation_suite_name=\"test_suite\"\n",
    ")"
   ]
  },
  {
   "cell_type": "code",
   "execution_count": 82,
   "id": "2bb7816d",
   "metadata": {},
   "outputs": [
    {
     "name": "stdout",
     "output_type": "stream",
     "text": [
      "{\n",
      "  \"datasource_name\": \"my_datasource_new\",\n",
      "  \"data_connector_name\": \"default_inferred_data_connector_name\",\n",
      "  \"data_asset_name\": \"my_schema.employees\"\n",
      "}\n"
     ]
    }
   ],
   "source": [
    "print(batch_request)"
   ]
  },
  {
   "cell_type": "code",
   "execution_count": 83,
   "id": "44e425e8",
   "metadata": {},
   "outputs": [
    {
     "data": {
      "application/vnd.jupyter.widget-view+json": {
       "model_id": "baa49ae672ed431584345640c79b0baa",
       "version_major": 2,
       "version_minor": 0
      },
      "text/plain": [
       "Calculating Metrics:   0%|          | 0/1 [00:00<?, ?it/s]"
      ]
     },
     "metadata": {},
     "output_type": "display_data"
    },
    {
     "name": "stdout",
     "output_type": "stream",
     "text": [
      "   employee_id first_name  last_name      email phone_number  hire_date  \\\n",
      "0        198.0     Donald   OConnell  *********    *********  21-JUN-07   \n",
      "1        199.0    Douglas      Grant  *********    *********  13-JAN-08   \n",
      "2        200.0   Jennifer     Whalen  *********    *********  17-SEP-03   \n",
      "3        201.0    Michael  Hartstein  *********    *********  17-FEB-04   \n",
      "4        202.0        Pat        Fay  *********    *********  17-AUG-05   \n",
      "\n",
      "     job_id   salary  manager_id  department_id                  elt_ts  \\\n",
      "0  SH_CLERK   2600.0       124.0           50.0 2023-02-06 04:21:14.674   \n",
      "1  SH_CLERK   2600.0       124.0           50.0 2023-02-06 04:21:14.674   \n",
      "2   AD_ASST   4400.0       101.0           10.0 2023-02-06 04:21:14.674   \n",
      "3    MK_MAN  13000.0       100.0           20.0 2023-02-06 04:21:14.674   \n",
      "4    MK_REP   6000.0       201.0           20.0 2023-02-06 04:21:14.674   \n",
      "\n",
      "  elt_by      file_name  \n",
      "0  local  employees.csv  \n",
      "1  local  employees.csv  \n",
      "2  local  employees.csv  \n",
      "3  local  employees.csv  \n",
      "4  local  employees.csv  \n"
     ]
    }
   ],
   "source": [
    "print(validator.head())"
   ]
  },
  {
   "cell_type": "code",
   "execution_count": 89,
   "id": "e6d40ec5",
   "metadata": {},
   "outputs": [
    {
     "data": {
      "application/vnd.jupyter.widget-view+json": {
       "model_id": "0e57a8bac7fe47c0bf911142bfc15dfb",
       "version_major": 2,
       "version_minor": 0
      },
      "text/plain": [
       "Calculating Metrics:   0%|          | 0/1 [00:00<?, ?it/s]"
      ]
     },
     "metadata": {},
     "output_type": "display_data"
    },
    {
     "name": "stdout",
     "output_type": "stream",
     "text": [
      ",employee_id,first_name,last_name,email,phone_number,hire_date,job_id,salary,manager_id,department_id,elt_ts,elt_by,file_name\n",
      "0,198.0,Donald,OConnell,*********,*********,21-JUN-07,SH_CLERK,2600.0,124.0,50.0,2023-02-06 04:21:14.674,local,employees.csv\n",
      "1,199.0,Douglas,Grant,*********,*********,13-JAN-08,SH_CLERK,2600.0,124.0,50.0,2023-02-06 04:21:14.674,local,employees.csv\n",
      "2,200.0,Jennifer,Whalen,*********,*********,17-SEP-03,AD_ASST,4400.0,101.0,10.0,2023-02-06 04:21:14.674,local,employees.csv\n",
      "3,201.0,Michael,Hartstein,*********,*********,17-FEB-04,MK_MAN,13000.0,100.0,20.0,2023-02-06 04:21:14.674,local,employees.csv\n",
      "4,202.0,Pat,Fay,*********,*********,17-AUG-05,MK_REP,6000.0,201.0,20.0,2023-02-06 04:21:14.674,local,employees.csv\n",
      "\n"
     ]
    }
   ],
   "source": [
    "df_test = validator.head().to_csv()\n",
    "print(df_test)"
   ]
  },
  {
   "cell_type": "code",
   "execution_count": 49,
   "id": "9e9279a8",
   "metadata": {},
   "outputs": [
    {
     "data": {
      "application/vnd.jupyter.widget-view+json": {
       "model_id": "14bc8f21248c4d9e8ef7487e55f846eb",
       "version_major": 2,
       "version_minor": 0
      },
      "text/plain": [
       "Calculating Metrics:   0%|          | 0/8 [00:00<?, ?it/s]"
      ]
     },
     "metadata": {},
     "output_type": "display_data"
    },
    {
     "data": {
      "text/plain": [
       "{\n",
       "  \"success\": true,\n",
       "  \"result\": {\n",
       "    \"element_count\": 49,\n",
       "    \"unexpected_count\": 0,\n",
       "    \"unexpected_percent\": 0.0,\n",
       "    \"partial_unexpected_list\": []\n",
       "  },\n",
       "  \"meta\": {},\n",
       "  \"exception_info\": {\n",
       "    \"raised_exception\": false,\n",
       "    \"exception_traceback\": null,\n",
       "    \"exception_message\": null\n",
       "  }\n",
       "}"
      ]
     },
     "execution_count": 49,
     "metadata": {},
     "output_type": "execute_result"
    }
   ],
   "source": [
    "validator.expect_column_values_to_not_be_null(column=\"employee_id\")"
   ]
  },
  {
   "cell_type": "code",
   "execution_count": 50,
   "id": "0a85ffe4",
   "metadata": {},
   "outputs": [
    {
     "data": {
      "application/vnd.jupyter.widget-view+json": {
       "model_id": "ea539707d6b3443bbb74bf775ab4d07a",
       "version_major": 2,
       "version_minor": 0
      },
      "text/plain": [
       "Calculating Metrics:   0%|          | 0/6 [00:00<?, ?it/s]"
      ]
     },
     "metadata": {},
     "output_type": "display_data"
    },
    {
     "data": {
      "text/plain": [
       "{\n",
       "  \"success\": true,\n",
       "  \"result\": {\n",
       "    \"observed_value\": 2100\n",
       "  },\n",
       "  \"meta\": {},\n",
       "  \"exception_info\": {\n",
       "    \"raised_exception\": false,\n",
       "    \"exception_traceback\": null,\n",
       "    \"exception_message\": null\n",
       "  }\n",
       "}"
      ]
     },
     "execution_count": 50,
     "metadata": {},
     "output_type": "execute_result"
    }
   ],
   "source": [
    "validator.expect_column_min_to_be_between(column=\"salary\", strict_min=0)"
   ]
  },
  {
   "cell_type": "code",
   "execution_count": 66,
   "id": "a8faf667",
   "metadata": {},
   "outputs": [],
   "source": [
    "# validator.expect_column_values_to_match_strftime_format(column=\"hire_date\",strftime_format=\"%y-%b-%d\")"
   ]
  },
  {
   "cell_type": "code",
   "execution_count": 67,
   "id": "1aa4dfda",
   "metadata": {},
   "outputs": [
    {
     "data": {
      "application/vnd.jupyter.widget-view+json": {
       "model_id": "e059d2cb91a445a6bb39b589f07b180b",
       "version_major": 2,
       "version_minor": 0
      },
      "text/plain": [
       "Calculating Metrics:   0%|          | 0/11 [00:00<?, ?it/s]"
      ]
     },
     "metadata": {},
     "output_type": "display_data"
    },
    {
     "data": {
      "text/plain": [
       "{\n",
       "  \"success\": true,\n",
       "  \"result\": {\n",
       "    \"element_count\": 49,\n",
       "    \"unexpected_count\": 0,\n",
       "    \"unexpected_percent\": 0.0,\n",
       "    \"partial_unexpected_list\": [],\n",
       "    \"missing_count\": 0,\n",
       "    \"missing_percent\": 0.0,\n",
       "    \"unexpected_percent_total\": 0.0,\n",
       "    \"unexpected_percent_nonmissing\": 0.0\n",
       "  },\n",
       "  \"meta\": {},\n",
       "  \"exception_info\": {\n",
       "    \"raised_exception\": false,\n",
       "    \"exception_traceback\": null,\n",
       "    \"exception_message\": null\n",
       "  }\n",
       "}"
      ]
     },
     "execution_count": 67,
     "metadata": {},
     "output_type": "execute_result"
    }
   ],
   "source": [
    "validator.expect_column_values_to_be_between(column=\"elt_ts\",min_value=\"2023-02-05 04:21:14.674\",max_value=\"2023-02-06 04:21:14.674\")"
   ]
  },
  {
   "cell_type": "code",
   "execution_count": null,
   "id": "90c2a125",
   "metadata": {},
   "outputs": [],
   "source": []
  },
  {
   "cell_type": "code",
   "execution_count": null,
   "id": "e51453b6",
   "metadata": {},
   "outputs": [],
   "source": []
  },
  {
   "cell_type": "code",
   "execution_count": null,
   "id": "a05a04de",
   "metadata": {},
   "outputs": [],
   "source": []
  },
  {
   "cell_type": "code",
   "execution_count": null,
   "id": "70b31aec",
   "metadata": {},
   "outputs": [],
   "source": []
  },
  {
   "cell_type": "code",
   "execution_count": null,
   "id": "150d6ad3",
   "metadata": {},
   "outputs": [],
   "source": [
    "# validator_futures.expect_column_values_to_not_be_null(column=column)\n",
    "# validator_futures.expect_column_min_to_be_between(column=\"settle_price\", strict_min=0)\n",
    "# validator_futures.expect_column_pair_values_a_to_be_greater_than_b(\n",
    "#     column_A=\"expiration_date\", column_B=\"trade_date\", or_equal=True\n",
    "# )\n",
    "# validator_futures.expect_column_stdev_to_be_between(\n",
    "#     column=\"settle_price\", min_value=1, max_value=5\n",
    "# )\n",
    "# validator_futures.save_expectation_suite(discard_failed_expectations=False)"
   ]
  },
  {
   "cell_type": "code",
   "execution_count": 21,
   "id": "41cc4e6c",
   "metadata": {},
   "outputs": [],
   "source": [
    "# batch_kwargs = {\n",
    "#     \"datasource\": \"my_datasource_new\",\n",
    "#     \"schema\": \"my_schema\",  # schema is optional; default schema will be used if it is omitted\n",
    "#     \"table\": \"employees\"  # note that the \"table\" key is used even to validate a view\n",
    "# }"
   ]
  },
  {
   "cell_type": "code",
   "execution_count": null,
   "id": "123a567f",
   "metadata": {},
   "outputs": [],
   "source": []
  },
  {
   "cell_type": "code",
   "execution_count": null,
   "id": "c5b0ba4b",
   "metadata": {},
   "outputs": [],
   "source": []
  },
  {
   "cell_type": "code",
   "execution_count": 22,
   "id": "75dccef1",
   "metadata": {},
   "outputs": [],
   "source": [
    "# expectation_suite_name = \"npi_test.warning\" "
   ]
  },
  {
   "cell_type": "code",
   "execution_count": 23,
   "id": "d2704b81",
   "metadata": {},
   "outputs": [
    {
     "data": {
      "text/plain": [
       "{\n",
       "  \"ge_cloud_id\": null,\n",
       "  \"data_asset_type\": null,\n",
       "  \"expectation_suite_name\": \"npi_test.warning\",\n",
       "  \"meta\": {\n",
       "    \"great_expectations_version\": \"0.15.48\"\n",
       "  },\n",
       "  \"expectations\": []\n",
       "}"
      ]
     },
     "execution_count": 23,
     "metadata": {},
     "output_type": "execute_result"
    }
   ],
   "source": [
    "# # Note, you can add the \"overwrite_existing\" flag to the below command if the suite\n",
    "# # exists but you would like to replace it.\n",
    "# context.create_expectation_suite(expectation_suite_name)"
   ]
  },
  {
   "cell_type": "code",
   "execution_count": 26,
   "id": "651aa20b",
   "metadata": {},
   "outputs": [
    {
     "name": "stdout",
     "output_type": "stream",
     "text": [
      "2023-02-20T17:49:02+0530 - INFO - Great Expectations logging enabled at 20 level by JupyterUX module.\n"
     ]
    }
   ],
   "source": [
    "from datetime import datetime\n",
    "import great_expectations as gx\n",
    "import great_expectations.jupyter_ux\n",
    "from great_expectations.data_context.types.resource_identifiers import ValidationResultIdentifier"
   ]
  },
  {
   "cell_type": "code",
   "execution_count": 31,
   "id": "c30c5024",
   "metadata": {},
   "outputs": [
    {
     "name": "stdout",
     "output_type": "stream",
     "text": [
      "2023-02-20T17:52:44+0530 - INFO - FileDataContext loading zep config\n",
      "2023-02-20T17:52:44+0530 - INFO - GxConfig.parse_yaml() failed with errors - [{'loc': ('xdatasources',), 'msg': 'field required', 'type': 'value_error.missing'}]\n",
      "2023-02-20T17:52:44+0530 - INFO - GxConfig.parse_yaml() returning empty `xdatasources`\n",
      "2023-02-20T17:52:44+0530 - INFO - Loading 'datasources' ->\n",
      "{}\n",
      "2023-02-20T17:52:44+0530 - INFO - Loaded 'datasources' ->\n",
      "{}\n"
     ]
    }
   ],
   "source": [
    "# context = gx.data_context.DataContext()"
   ]
  },
  {
   "cell_type": "code",
   "execution_count": 36,
   "id": "68fa74ac",
   "metadata": {},
   "outputs": [
    {
     "ename": "AttributeError",
     "evalue": "'Datasource' object has no attribute 'get_batch'",
     "output_type": "error",
     "traceback": [
      "\u001b[0;31m---------------------------------------------------------------------------\u001b[0m",
      "\u001b[0;31mAttributeError\u001b[0m                            Traceback (most recent call last)",
      "Input \u001b[0;32mIn [36]\u001b[0m, in \u001b[0;36m<cell line: 1>\u001b[0;34m()\u001b[0m\n\u001b[0;32m----> 1\u001b[0m batch \u001b[38;5;241m=\u001b[39m \u001b[43mcontext\u001b[49m\u001b[38;5;241;43m.\u001b[39;49m\u001b[43mget_batch\u001b[49m\u001b[43m(\u001b[49m\u001b[43mbatch_kwargs\u001b[49m\u001b[43m,\u001b[49m\u001b[43mexpectation_suite_name\u001b[49m\u001b[43m)\u001b[49m\n\u001b[1;32m      2\u001b[0m batch\u001b[38;5;241m.\u001b[39mhead()\n",
      "File \u001b[0;32m~/opt/anaconda3/lib/python3.9/site-packages/great_expectations/data_context/data_context/abstract_data_context.py:960\u001b[0m, in \u001b[0;36mAbstractDataContext.get_batch\u001b[0;34m(self, arg1, arg2, arg3, **kwargs)\u001b[0m\n\u001b[1;32m    958\u001b[0m     data_asset_type \u001b[38;5;241m=\u001b[39m arg3\n\u001b[1;32m    959\u001b[0m batch_parameters \u001b[38;5;241m=\u001b[39m kwargs\u001b[38;5;241m.\u001b[39mget(\u001b[38;5;124m\"\u001b[39m\u001b[38;5;124mbatch_parameters\u001b[39m\u001b[38;5;124m\"\u001b[39m)\n\u001b[0;32m--> 960\u001b[0m \u001b[38;5;28;01mreturn\u001b[39;00m \u001b[38;5;28;43mself\u001b[39;49m\u001b[38;5;241;43m.\u001b[39;49m\u001b[43m_get_batch_v2\u001b[49m\u001b[43m(\u001b[49m\n\u001b[1;32m    961\u001b[0m \u001b[43m    \u001b[49m\u001b[43mbatch_kwargs\u001b[49m\u001b[38;5;241;43m=\u001b[39;49m\u001b[43mbatch_kwargs\u001b[49m\u001b[43m,\u001b[49m\n\u001b[1;32m    962\u001b[0m \u001b[43m    \u001b[49m\u001b[43mexpectation_suite_name\u001b[49m\u001b[38;5;241;43m=\u001b[39;49m\u001b[43mexpectation_suite_name\u001b[49m\u001b[43m,\u001b[49m\n\u001b[1;32m    963\u001b[0m \u001b[43m    \u001b[49m\u001b[43mdata_asset_type\u001b[49m\u001b[38;5;241;43m=\u001b[39;49m\u001b[43mdata_asset_type\u001b[49m\u001b[43m,\u001b[49m\n\u001b[1;32m    964\u001b[0m \u001b[43m    \u001b[49m\u001b[43mbatch_parameters\u001b[49m\u001b[38;5;241;43m=\u001b[39;49m\u001b[43mbatch_parameters\u001b[49m\u001b[43m,\u001b[49m\n\u001b[1;32m    965\u001b[0m \u001b[43m\u001b[49m\u001b[43m)\u001b[49m\n",
      "File \u001b[0;32m~/opt/anaconda3/lib/python3.9/site-packages/great_expectations/data_context/data_context/abstract_data_context.py:1077\u001b[0m, in \u001b[0;36mAbstractDataContext._get_batch_v2\u001b[0;34m(self, batch_kwargs, expectation_suite_name, data_asset_type, batch_parameters)\u001b[0m\n\u001b[1;32m   1073\u001b[0m     datasource \u001b[38;5;241m=\u001b[39m \u001b[38;5;28mself\u001b[39m\u001b[38;5;241m.\u001b[39mget_datasource(\u001b[38;5;28;01mNone\u001b[39;00m)  \u001b[38;5;66;03m#  type: ignore[arg-type]\u001b[39;00m\n\u001b[1;32m   1074\u001b[0m \u001b[38;5;28;01massert\u001b[39;00m \u001b[38;5;129;01mnot\u001b[39;00m \u001b[38;5;28misinstance\u001b[39m(\n\u001b[1;32m   1075\u001b[0m     datasource, XDatasource\n\u001b[1;32m   1076\u001b[0m ), \u001b[38;5;124m\"\u001b[39m\u001b[38;5;124mExperimental Datasource cannot be built from batch_kwargs\u001b[39m\u001b[38;5;124m\"\u001b[39m\n\u001b[0;32m-> 1077\u001b[0m batch \u001b[38;5;241m=\u001b[39m \u001b[43mdatasource\u001b[49m\u001b[38;5;241;43m.\u001b[39;49m\u001b[43mget_batch\u001b[49m(  \u001b[38;5;66;03m#  type: ignore[union-attr]\u001b[39;00m\n\u001b[1;32m   1078\u001b[0m     batch_kwargs\u001b[38;5;241m=\u001b[39mbatch_kwargs, batch_parameters\u001b[38;5;241m=\u001b[39mbatch_parameters\n\u001b[1;32m   1079\u001b[0m )\n\u001b[1;32m   1080\u001b[0m \u001b[38;5;28;01mif\u001b[39;00m data_asset_type \u001b[38;5;129;01mis\u001b[39;00m \u001b[38;5;28;01mNone\u001b[39;00m:\n\u001b[1;32m   1081\u001b[0m     data_asset_type \u001b[38;5;241m=\u001b[39m datasource\u001b[38;5;241m.\u001b[39mconfig\u001b[38;5;241m.\u001b[39mget(\u001b[38;5;124m\"\u001b[39m\u001b[38;5;124mdata_asset_type\u001b[39m\u001b[38;5;124m\"\u001b[39m)\n",
      "\u001b[0;31mAttributeError\u001b[0m: 'Datasource' object has no attribute 'get_batch'"
     ]
    }
   ],
   "source": [
    "# batch = context.get_batch(batch_kwargs,expectation_suite_name)\n",
    "# batch.head()"
   ]
  },
  {
   "cell_type": "code",
   "execution_count": 33,
   "id": "d8658769",
   "metadata": {},
   "outputs": [
    {
     "name": "stdout",
     "output_type": "stream",
     "text": [
      "{'datasource': 'my_datasource_new', 'schema': 'my_schema', 'table': 'employees'}\n"
     ]
    }
   ],
   "source": [
    "print(batch_kwargs)"
   ]
  },
  {
   "cell_type": "code",
   "execution_count": null,
   "id": "bdae9e0d",
   "metadata": {},
   "outputs": [],
   "source": []
  }
 ],
 "metadata": {
  "kernelspec": {
   "display_name": "Python 3 (ipykernel)",
   "language": "python",
   "name": "python3"
  },
  "language_info": {
   "codemirror_mode": {
    "name": "ipython",
    "version": 3
   },
   "file_extension": ".py",
   "mimetype": "text/x-python",
   "name": "python",
   "nbconvert_exporter": "python",
   "pygments_lexer": "ipython3",
   "version": "3.9.12"
  }
 },
 "nbformat": 4,
 "nbformat_minor": 5
}
